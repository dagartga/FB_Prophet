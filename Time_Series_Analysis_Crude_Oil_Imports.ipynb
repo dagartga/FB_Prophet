{
 "cells": [
  {
   "cell_type": "markdown",
   "id": "21337f47",
   "metadata": {},
   "source": [
    "# Time Series Analysis and Forecasting of US Crude Oil Imports"
   ]
  },
  {
   "cell_type": "code",
   "execution_count": 227,
   "id": "a08e9bd8",
   "metadata": {},
   "outputs": [],
   "source": [
    "import pandas as pd\n",
    "import numpy as np\n",
    "import seaborn as sns\n",
    "import matplotlib.pyplot as plt\n",
    "import plotly.express as px\n",
    "import plotly.graph_objects as go\n",
    "\n",
    "from keras.models import Sequential\n",
    "from keras.layers import Dense\n",
    "from keras.layers import LSTM\n",
    "import tensorflow as tf"
   ]
  },
  {
   "cell_type": "markdown",
   "id": "8999e2e3",
   "metadata": {},
   "source": [
    "## Import the US Crude Oil Import Data\n",
    "\n",
    "Dataset downloaded from ['github.com/rishabah89007'](https://github.com/rishabh89007/Time_Series_Datasets/blob/main/Imports%20Crude%20Oil.csv)"
   ]
  },
  {
   "cell_type": "code",
   "execution_count": 190,
   "id": "66719204",
   "metadata": {},
   "outputs": [
    {
     "data": {
      "text/html": [
       "<div>\n",
       "<style scoped>\n",
       "    .dataframe tbody tr th:only-of-type {\n",
       "        vertical-align: middle;\n",
       "    }\n",
       "\n",
       "    .dataframe tbody tr th {\n",
       "        vertical-align: top;\n",
       "    }\n",
       "\n",
       "    .dataframe thead th {\n",
       "        text-align: right;\n",
       "    }\n",
       "</style>\n",
       "<table border=\"1\" class=\"dataframe\">\n",
       "  <thead>\n",
       "    <tr style=\"text-align: right;\">\n",
       "      <th></th>\n",
       "      <th>Unnamed: 0</th>\n",
       "      <th>Imports of all grades of crude oil from World to Total U.S. (US), Monthly (thousand barrels)</th>\n",
       "    </tr>\n",
       "  </thead>\n",
       "  <tbody>\n",
       "    <tr>\n",
       "      <th>0</th>\n",
       "      <td>2009 01</td>\n",
       "      <td>317275</td>\n",
       "    </tr>\n",
       "    <tr>\n",
       "      <th>1</th>\n",
       "      <td>2009 02</td>\n",
       "      <td>262339</td>\n",
       "    </tr>\n",
       "    <tr>\n",
       "      <th>2</th>\n",
       "      <td>2009 03</td>\n",
       "      <td>303897</td>\n",
       "    </tr>\n",
       "    <tr>\n",
       "      <th>3</th>\n",
       "      <td>2009 04</td>\n",
       "      <td>285934</td>\n",
       "    </tr>\n",
       "    <tr>\n",
       "      <th>4</th>\n",
       "      <td>2009 05</td>\n",
       "      <td>281147</td>\n",
       "    </tr>\n",
       "  </tbody>\n",
       "</table>\n",
       "</div>"
      ],
      "text/plain": [
       "  Unnamed: 0  \\\n",
       "0   2009 01    \n",
       "1   2009 02    \n",
       "2   2009 03    \n",
       "3   2009 04    \n",
       "4   2009 05    \n",
       "\n",
       "   Imports of all grades of crude oil from World to Total U.S. (US), Monthly (thousand barrels)  \n",
       "0                                             317275                                             \n",
       "1                                             262339                                             \n",
       "2                                             303897                                             \n",
       "3                                             285934                                             \n",
       "4                                             281147                                             "
      ]
     },
     "execution_count": 190,
     "metadata": {},
     "output_type": "execute_result"
    }
   ],
   "source": [
    "df = pd.read_csv('imports_crude_oil.csv')\n",
    "df.head()"
   ]
  },
  {
   "cell_type": "code",
   "execution_count": 191,
   "id": "70ae15de",
   "metadata": {},
   "outputs": [
    {
     "data": {
      "text/html": [
       "<div>\n",
       "<style scoped>\n",
       "    .dataframe tbody tr th:only-of-type {\n",
       "        vertical-align: middle;\n",
       "    }\n",
       "\n",
       "    .dataframe tbody tr th {\n",
       "        vertical-align: top;\n",
       "    }\n",
       "\n",
       "    .dataframe thead th {\n",
       "        text-align: right;\n",
       "    }\n",
       "</style>\n",
       "<table border=\"1\" class=\"dataframe\">\n",
       "  <thead>\n",
       "    <tr style=\"text-align: right;\">\n",
       "      <th></th>\n",
       "      <th>Unnamed: 0</th>\n",
       "      <th>Imports of all grades of crude oil from World to Total U.S. (US), Monthly (thousand barrels)</th>\n",
       "    </tr>\n",
       "  </thead>\n",
       "  <tbody>\n",
       "    <tr>\n",
       "      <th>140</th>\n",
       "      <td>2020 09</td>\n",
       "      <td>161926</td>\n",
       "    </tr>\n",
       "    <tr>\n",
       "      <th>141</th>\n",
       "      <td>2020 10</td>\n",
       "      <td>164494</td>\n",
       "    </tr>\n",
       "    <tr>\n",
       "      <th>142</th>\n",
       "      <td>2020 11</td>\n",
       "      <td>168655</td>\n",
       "    </tr>\n",
       "    <tr>\n",
       "      <th>143</th>\n",
       "      <td>2020 12</td>\n",
       "      <td>178597</td>\n",
       "    </tr>\n",
       "    <tr>\n",
       "      <th>144</th>\n",
       "      <td>2021 01</td>\n",
       "      <td>181197</td>\n",
       "    </tr>\n",
       "  </tbody>\n",
       "</table>\n",
       "</div>"
      ],
      "text/plain": [
       "    Unnamed: 0  \\\n",
       "140   2020 09    \n",
       "141   2020 10    \n",
       "142   2020 11    \n",
       "143   2020 12    \n",
       "144   2021 01    \n",
       "\n",
       "     Imports of all grades of crude oil from World to Total U.S. (US), Monthly (thousand barrels)  \n",
       "140                                             161926                                             \n",
       "141                                             164494                                             \n",
       "142                                             168655                                             \n",
       "143                                             178597                                             \n",
       "144                                             181197                                             "
      ]
     },
     "execution_count": 191,
     "metadata": {},
     "output_type": "execute_result"
    }
   ],
   "source": [
    "df.tail()"
   ]
  },
  {
   "cell_type": "code",
   "execution_count": 192,
   "id": "6f2276be",
   "metadata": {},
   "outputs": [],
   "source": [
    "df.columns = ['date', 'crude_oil_imports']"
   ]
  },
  {
   "cell_type": "code",
   "execution_count": 193,
   "id": "00d2899e",
   "metadata": {},
   "outputs": [
    {
     "name": "stdout",
     "output_type": "stream",
     "text": [
      "<class 'pandas.core.frame.DataFrame'>\n",
      "RangeIndex: 145 entries, 0 to 144\n",
      "Data columns (total 2 columns):\n",
      " #   Column             Non-Null Count  Dtype \n",
      "---  ------             --------------  ----- \n",
      " 0   date               145 non-null    object\n",
      " 1   crude_oil_imports  145 non-null    int64 \n",
      "dtypes: int64(1), object(1)\n",
      "memory usage: 2.4+ KB\n"
     ]
    }
   ],
   "source": [
    "df.info()"
   ]
  },
  {
   "cell_type": "code",
   "execution_count": 194,
   "id": "88cbd6cb",
   "metadata": {},
   "outputs": [
    {
     "data": {
      "text/plain": [
       "date                 0\n",
       "crude_oil_imports    0\n",
       "dtype: int64"
      ]
     },
     "execution_count": 194,
     "metadata": {},
     "output_type": "execute_result"
    }
   ],
   "source": [
    "df.isna().sum()"
   ]
  },
  {
   "cell_type": "code",
   "execution_count": 195,
   "id": "fdb9582c",
   "metadata": {},
   "outputs": [
    {
     "data": {
      "text/plain": [
       "(145, 2)"
      ]
     },
     "execution_count": 195,
     "metadata": {},
     "output_type": "execute_result"
    }
   ],
   "source": [
    "df.shape"
   ]
  },
  {
   "cell_type": "code",
   "execution_count": 196,
   "id": "95d6f928",
   "metadata": {},
   "outputs": [
    {
     "data": {
      "application/vnd.plotly.v1+json": {
       "config": {
        "plotlyServerURL": "https://plot.ly"
       },
       "data": [
        {
         "hovertemplate": "date=%{x}<br>crude_oil_imports=%{y}<extra></extra>",
         "legendgroup": "",
         "line": {
          "color": "#4169E1",
          "dash": "solid"
         },
         "marker": {
          "symbol": "circle"
         },
         "mode": "lines",
         "name": "",
         "orientation": "v",
         "showlegend": false,
         "type": "scatter",
         "x": [
          "2009 01 ",
          "2009 02 ",
          "2009 03 ",
          "2009 04 ",
          "2009 05 ",
          "2009 06 ",
          "2009 07 ",
          "2009 08 ",
          "2009 09 ",
          "2009 10 ",
          "2009 11 ",
          "2009 12 ",
          "2010 01 ",
          "2010 02 ",
          "2010 03 ",
          "2010 04 ",
          "2010 05 ",
          "2010 06 ",
          "2010 07 ",
          "2010 08 ",
          "2010 09 ",
          "2010 10 ",
          "2010 11 ",
          "2010 12 ",
          "2011 01 ",
          "2011 02 ",
          "2011 03 ",
          "2011 04 ",
          "2011 05 ",
          "2011 06 ",
          "2011 07 ",
          "2011 08 ",
          "2011 09 ",
          "2011 10 ",
          "2011 11 ",
          "2011 12 ",
          "2012 01 ",
          "2012 02 ",
          "2012 03 ",
          "2012 04 ",
          "2012 05 ",
          "2012 06 ",
          "2012 07 ",
          "2012 08 ",
          "2012 09 ",
          "2012 10 ",
          "2012 11 ",
          "2012 12 ",
          "2013 01 ",
          "2013 02 ",
          "2013 03 ",
          "2013 04 ",
          "2013 05 ",
          "2013 06 ",
          "2013 07 ",
          "2013 08 ",
          "2013 09 ",
          "2013 10 ",
          "2013 11 ",
          "2013 12 ",
          "2014 01 ",
          "2014 02 ",
          "2014 03 ",
          "2014 04 ",
          "2014 05 ",
          "2014 06 ",
          "2014 07 ",
          "2014 08 ",
          "2014 09 ",
          "2014 10 ",
          "2014 11 ",
          "2014 12 ",
          "2015 01 ",
          "2015 02 ",
          "2015 03 ",
          "2015 04 ",
          "2015 05 ",
          "2015 06 ",
          "2015 07 ",
          "2015 08 ",
          "2015 09 ",
          "2015 10 ",
          "2015 11 ",
          "2015 12 ",
          "2016 01 ",
          "2016 02 ",
          "2016 03 ",
          "2016 04 ",
          "2016 05 ",
          "2016 06 ",
          "2016 07 ",
          "2016 08 ",
          "2016 09 ",
          "2016 10 ",
          "2016 11 ",
          "2016 12 ",
          "2017 01 ",
          "2017 02 ",
          "2017 03 ",
          "2017 04 ",
          "2017 05 ",
          "2017 06 ",
          "2017 07 ",
          "2017 08 ",
          "2017 09 ",
          "2017 10 ",
          "2017 11 ",
          "2017 12 ",
          "2018 01 ",
          "2018 02 ",
          "2018 03 ",
          "2018 04 ",
          "2018 05 ",
          "2018 06 ",
          "2018 07 ",
          "2018 08 ",
          "2018 09 ",
          "2018 10 ",
          "2018 11 ",
          "2018 12 ",
          "2019 01 ",
          "2019 02 ",
          "2019 03 ",
          "2019 04 ",
          "2019 05 ",
          "2019 06 ",
          "2019 07 ",
          "2019 08 ",
          "2019 09 ",
          "2019 10 ",
          "2019 11 ",
          "2019 12 ",
          "2020 01 ",
          "2020 02 ",
          "2020 03 ",
          "2020 04 ",
          "2020 05 ",
          "2020 06 ",
          "2020 07 ",
          "2020 08 ",
          "2020 09 ",
          "2020 10 ",
          "2020 11 ",
          "2020 12 ",
          "2021 01 "
         ],
         "xaxis": "x",
         "y": [
          317275,
          262339,
          303897,
          285934,
          281147,
          284093,
          287569,
          279111,
          289561,
          272678,
          273248,
          265615,
          274568,
          253150,
          299033,
          302836,
          310396,
          310153,
          318991,
          309053,
          284192,
          272415,
          271185,
          279096,
          296158,
          235122,
          292010,
          265822,
          289106,
          285572,
          295338,
          287633,
          273698,
          284594,
          268189,
          279359,
          257536,
          242560,
          271697,
          258417,
          272766,
          270684,
          266782,
          263945,
          250160,
          250303,
          244987,
          235120,
          245715,
          203162,
          231414,
          231621,
          238809,
          231912,
          245724,
          251079,
          237699,
          230822,
          222248,
          240519,
          234969,
          201572,
          225487,
          226639,
          222177,
          212025,
          236534,
          231649,
          224851,
          221600,
          218845,
          223978,
          222315,
          198807,
          235360,
          216229,
          224604,
          219618,
          228160,
          239212,
          216838,
          220171,
          221130,
          244965,
          236065,
          229492,
          248383,
          228344,
          245749,
          226802,
          250986,
          248482,
          241213,
          234666,
          240691,
          242213,
          262811,
          220558,
          253114,
          246132,
          264554,
          242677,
          245369,
          245611,
          219708,
          238109,
          230230,
          241245,
          248552,
          209942,
          236216,
          247608,
          242857,
          254283,
          246671,
          247656,
          227795,
          227975,
          226251,
          219240,
          234307,
          178257,
          210276,
          209958,
          221259,
          214563,
          215083,
          215273,
          194485,
          193493,
          174531,
          211837,
          198663,
          189060,
          195181,
          165586,
          188693,
          191919,
          183087,
          168406,
          161926,
          164494,
          168655,
          178597,
          181197
         ],
         "yaxis": "y"
        }
       ],
       "layout": {
        "height": 400,
        "legend": {
         "tracegroupgap": 0
        },
        "template": {
         "data": {
          "bar": [
           {
            "error_x": {
             "color": "#2a3f5f"
            },
            "error_y": {
             "color": "#2a3f5f"
            },
            "marker": {
             "line": {
              "color": "#E5ECF6",
              "width": 0.5
             },
             "pattern": {
              "fillmode": "overlay",
              "size": 10,
              "solidity": 0.2
             }
            },
            "type": "bar"
           }
          ],
          "barpolar": [
           {
            "marker": {
             "line": {
              "color": "#E5ECF6",
              "width": 0.5
             },
             "pattern": {
              "fillmode": "overlay",
              "size": 10,
              "solidity": 0.2
             }
            },
            "type": "barpolar"
           }
          ],
          "carpet": [
           {
            "aaxis": {
             "endlinecolor": "#2a3f5f",
             "gridcolor": "white",
             "linecolor": "white",
             "minorgridcolor": "white",
             "startlinecolor": "#2a3f5f"
            },
            "baxis": {
             "endlinecolor": "#2a3f5f",
             "gridcolor": "white",
             "linecolor": "white",
             "minorgridcolor": "white",
             "startlinecolor": "#2a3f5f"
            },
            "type": "carpet"
           }
          ],
          "choropleth": [
           {
            "colorbar": {
             "outlinewidth": 0,
             "ticks": ""
            },
            "type": "choropleth"
           }
          ],
          "contour": [
           {
            "colorbar": {
             "outlinewidth": 0,
             "ticks": ""
            },
            "colorscale": [
             [
              0,
              "#0d0887"
             ],
             [
              0.1111111111111111,
              "#46039f"
             ],
             [
              0.2222222222222222,
              "#7201a8"
             ],
             [
              0.3333333333333333,
              "#9c179e"
             ],
             [
              0.4444444444444444,
              "#bd3786"
             ],
             [
              0.5555555555555556,
              "#d8576b"
             ],
             [
              0.6666666666666666,
              "#ed7953"
             ],
             [
              0.7777777777777778,
              "#fb9f3a"
             ],
             [
              0.8888888888888888,
              "#fdca26"
             ],
             [
              1,
              "#f0f921"
             ]
            ],
            "type": "contour"
           }
          ],
          "contourcarpet": [
           {
            "colorbar": {
             "outlinewidth": 0,
             "ticks": ""
            },
            "type": "contourcarpet"
           }
          ],
          "heatmap": [
           {
            "colorbar": {
             "outlinewidth": 0,
             "ticks": ""
            },
            "colorscale": [
             [
              0,
              "#0d0887"
             ],
             [
              0.1111111111111111,
              "#46039f"
             ],
             [
              0.2222222222222222,
              "#7201a8"
             ],
             [
              0.3333333333333333,
              "#9c179e"
             ],
             [
              0.4444444444444444,
              "#bd3786"
             ],
             [
              0.5555555555555556,
              "#d8576b"
             ],
             [
              0.6666666666666666,
              "#ed7953"
             ],
             [
              0.7777777777777778,
              "#fb9f3a"
             ],
             [
              0.8888888888888888,
              "#fdca26"
             ],
             [
              1,
              "#f0f921"
             ]
            ],
            "type": "heatmap"
           }
          ],
          "heatmapgl": [
           {
            "colorbar": {
             "outlinewidth": 0,
             "ticks": ""
            },
            "colorscale": [
             [
              0,
              "#0d0887"
             ],
             [
              0.1111111111111111,
              "#46039f"
             ],
             [
              0.2222222222222222,
              "#7201a8"
             ],
             [
              0.3333333333333333,
              "#9c179e"
             ],
             [
              0.4444444444444444,
              "#bd3786"
             ],
             [
              0.5555555555555556,
              "#d8576b"
             ],
             [
              0.6666666666666666,
              "#ed7953"
             ],
             [
              0.7777777777777778,
              "#fb9f3a"
             ],
             [
              0.8888888888888888,
              "#fdca26"
             ],
             [
              1,
              "#f0f921"
             ]
            ],
            "type": "heatmapgl"
           }
          ],
          "histogram": [
           {
            "marker": {
             "pattern": {
              "fillmode": "overlay",
              "size": 10,
              "solidity": 0.2
             }
            },
            "type": "histogram"
           }
          ],
          "histogram2d": [
           {
            "colorbar": {
             "outlinewidth": 0,
             "ticks": ""
            },
            "colorscale": [
             [
              0,
              "#0d0887"
             ],
             [
              0.1111111111111111,
              "#46039f"
             ],
             [
              0.2222222222222222,
              "#7201a8"
             ],
             [
              0.3333333333333333,
              "#9c179e"
             ],
             [
              0.4444444444444444,
              "#bd3786"
             ],
             [
              0.5555555555555556,
              "#d8576b"
             ],
             [
              0.6666666666666666,
              "#ed7953"
             ],
             [
              0.7777777777777778,
              "#fb9f3a"
             ],
             [
              0.8888888888888888,
              "#fdca26"
             ],
             [
              1,
              "#f0f921"
             ]
            ],
            "type": "histogram2d"
           }
          ],
          "histogram2dcontour": [
           {
            "colorbar": {
             "outlinewidth": 0,
             "ticks": ""
            },
            "colorscale": [
             [
              0,
              "#0d0887"
             ],
             [
              0.1111111111111111,
              "#46039f"
             ],
             [
              0.2222222222222222,
              "#7201a8"
             ],
             [
              0.3333333333333333,
              "#9c179e"
             ],
             [
              0.4444444444444444,
              "#bd3786"
             ],
             [
              0.5555555555555556,
              "#d8576b"
             ],
             [
              0.6666666666666666,
              "#ed7953"
             ],
             [
              0.7777777777777778,
              "#fb9f3a"
             ],
             [
              0.8888888888888888,
              "#fdca26"
             ],
             [
              1,
              "#f0f921"
             ]
            ],
            "type": "histogram2dcontour"
           }
          ],
          "mesh3d": [
           {
            "colorbar": {
             "outlinewidth": 0,
             "ticks": ""
            },
            "type": "mesh3d"
           }
          ],
          "parcoords": [
           {
            "line": {
             "colorbar": {
              "outlinewidth": 0,
              "ticks": ""
             }
            },
            "type": "parcoords"
           }
          ],
          "pie": [
           {
            "automargin": true,
            "type": "pie"
           }
          ],
          "scatter": [
           {
            "fillpattern": {
             "fillmode": "overlay",
             "size": 10,
             "solidity": 0.2
            },
            "type": "scatter"
           }
          ],
          "scatter3d": [
           {
            "line": {
             "colorbar": {
              "outlinewidth": 0,
              "ticks": ""
             }
            },
            "marker": {
             "colorbar": {
              "outlinewidth": 0,
              "ticks": ""
             }
            },
            "type": "scatter3d"
           }
          ],
          "scattercarpet": [
           {
            "marker": {
             "colorbar": {
              "outlinewidth": 0,
              "ticks": ""
             }
            },
            "type": "scattercarpet"
           }
          ],
          "scattergeo": [
           {
            "marker": {
             "colorbar": {
              "outlinewidth": 0,
              "ticks": ""
             }
            },
            "type": "scattergeo"
           }
          ],
          "scattergl": [
           {
            "marker": {
             "colorbar": {
              "outlinewidth": 0,
              "ticks": ""
             }
            },
            "type": "scattergl"
           }
          ],
          "scattermapbox": [
           {
            "marker": {
             "colorbar": {
              "outlinewidth": 0,
              "ticks": ""
             }
            },
            "type": "scattermapbox"
           }
          ],
          "scatterpolar": [
           {
            "marker": {
             "colorbar": {
              "outlinewidth": 0,
              "ticks": ""
             }
            },
            "type": "scatterpolar"
           }
          ],
          "scatterpolargl": [
           {
            "marker": {
             "colorbar": {
              "outlinewidth": 0,
              "ticks": ""
             }
            },
            "type": "scatterpolargl"
           }
          ],
          "scatterternary": [
           {
            "marker": {
             "colorbar": {
              "outlinewidth": 0,
              "ticks": ""
             }
            },
            "type": "scatterternary"
           }
          ],
          "surface": [
           {
            "colorbar": {
             "outlinewidth": 0,
             "ticks": ""
            },
            "colorscale": [
             [
              0,
              "#0d0887"
             ],
             [
              0.1111111111111111,
              "#46039f"
             ],
             [
              0.2222222222222222,
              "#7201a8"
             ],
             [
              0.3333333333333333,
              "#9c179e"
             ],
             [
              0.4444444444444444,
              "#bd3786"
             ],
             [
              0.5555555555555556,
              "#d8576b"
             ],
             [
              0.6666666666666666,
              "#ed7953"
             ],
             [
              0.7777777777777778,
              "#fb9f3a"
             ],
             [
              0.8888888888888888,
              "#fdca26"
             ],
             [
              1,
              "#f0f921"
             ]
            ],
            "type": "surface"
           }
          ],
          "table": [
           {
            "cells": {
             "fill": {
              "color": "#EBF0F8"
             },
             "line": {
              "color": "white"
             }
            },
            "header": {
             "fill": {
              "color": "#C8D4E3"
             },
             "line": {
              "color": "white"
             }
            },
            "type": "table"
           }
          ]
         },
         "layout": {
          "annotationdefaults": {
           "arrowcolor": "#2a3f5f",
           "arrowhead": 0,
           "arrowwidth": 1
          },
          "autotypenumbers": "strict",
          "coloraxis": {
           "colorbar": {
            "outlinewidth": 0,
            "ticks": ""
           }
          },
          "colorscale": {
           "diverging": [
            [
             0,
             "#8e0152"
            ],
            [
             0.1,
             "#c51b7d"
            ],
            [
             0.2,
             "#de77ae"
            ],
            [
             0.3,
             "#f1b6da"
            ],
            [
             0.4,
             "#fde0ef"
            ],
            [
             0.5,
             "#f7f7f7"
            ],
            [
             0.6,
             "#e6f5d0"
            ],
            [
             0.7,
             "#b8e186"
            ],
            [
             0.8,
             "#7fbc41"
            ],
            [
             0.9,
             "#4d9221"
            ],
            [
             1,
             "#276419"
            ]
           ],
           "sequential": [
            [
             0,
             "#0d0887"
            ],
            [
             0.1111111111111111,
             "#46039f"
            ],
            [
             0.2222222222222222,
             "#7201a8"
            ],
            [
             0.3333333333333333,
             "#9c179e"
            ],
            [
             0.4444444444444444,
             "#bd3786"
            ],
            [
             0.5555555555555556,
             "#d8576b"
            ],
            [
             0.6666666666666666,
             "#ed7953"
            ],
            [
             0.7777777777777778,
             "#fb9f3a"
            ],
            [
             0.8888888888888888,
             "#fdca26"
            ],
            [
             1,
             "#f0f921"
            ]
           ],
           "sequentialminus": [
            [
             0,
             "#0d0887"
            ],
            [
             0.1111111111111111,
             "#46039f"
            ],
            [
             0.2222222222222222,
             "#7201a8"
            ],
            [
             0.3333333333333333,
             "#9c179e"
            ],
            [
             0.4444444444444444,
             "#bd3786"
            ],
            [
             0.5555555555555556,
             "#d8576b"
            ],
            [
             0.6666666666666666,
             "#ed7953"
            ],
            [
             0.7777777777777778,
             "#fb9f3a"
            ],
            [
             0.8888888888888888,
             "#fdca26"
            ],
            [
             1,
             "#f0f921"
            ]
           ]
          },
          "colorway": [
           "#636efa",
           "#EF553B",
           "#00cc96",
           "#ab63fa",
           "#FFA15A",
           "#19d3f3",
           "#FF6692",
           "#B6E880",
           "#FF97FF",
           "#FECB52"
          ],
          "font": {
           "color": "#2a3f5f"
          },
          "geo": {
           "bgcolor": "white",
           "lakecolor": "white",
           "landcolor": "#E5ECF6",
           "showlakes": true,
           "showland": true,
           "subunitcolor": "white"
          },
          "hoverlabel": {
           "align": "left"
          },
          "hovermode": "closest",
          "mapbox": {
           "style": "light"
          },
          "paper_bgcolor": "white",
          "plot_bgcolor": "#E5ECF6",
          "polar": {
           "angularaxis": {
            "gridcolor": "white",
            "linecolor": "white",
            "ticks": ""
           },
           "bgcolor": "#E5ECF6",
           "radialaxis": {
            "gridcolor": "white",
            "linecolor": "white",
            "ticks": ""
           }
          },
          "scene": {
           "xaxis": {
            "backgroundcolor": "#E5ECF6",
            "gridcolor": "white",
            "gridwidth": 2,
            "linecolor": "white",
            "showbackground": true,
            "ticks": "",
            "zerolinecolor": "white"
           },
           "yaxis": {
            "backgroundcolor": "#E5ECF6",
            "gridcolor": "white",
            "gridwidth": 2,
            "linecolor": "white",
            "showbackground": true,
            "ticks": "",
            "zerolinecolor": "white"
           },
           "zaxis": {
            "backgroundcolor": "#E5ECF6",
            "gridcolor": "white",
            "gridwidth": 2,
            "linecolor": "white",
            "showbackground": true,
            "ticks": "",
            "zerolinecolor": "white"
           }
          },
          "shapedefaults": {
           "line": {
            "color": "#2a3f5f"
           }
          },
          "ternary": {
           "aaxis": {
            "gridcolor": "white",
            "linecolor": "white",
            "ticks": ""
           },
           "baxis": {
            "gridcolor": "white",
            "linecolor": "white",
            "ticks": ""
           },
           "bgcolor": "#E5ECF6",
           "caxis": {
            "gridcolor": "white",
            "linecolor": "white",
            "ticks": ""
           }
          },
          "title": {
           "x": 0.05
          },
          "xaxis": {
           "automargin": true,
           "gridcolor": "white",
           "linecolor": "white",
           "ticks": "",
           "title": {
            "standoff": 15
           },
           "zerolinecolor": "white",
           "zerolinewidth": 2
          },
          "yaxis": {
           "automargin": true,
           "gridcolor": "white",
           "linecolor": "white",
           "ticks": "",
           "title": {
            "standoff": 15
           },
           "zerolinecolor": "white",
           "zerolinewidth": 2
          }
         }
        },
        "title": {
         "text": "US Crude Oil Imports Over Time"
        },
        "width": 800,
        "xaxis": {
         "anchor": "y",
         "domain": [
          0,
          1
         ],
         "title": {
          "text": "date"
         }
        },
        "yaxis": {
         "anchor": "x",
         "domain": [
          0,
          1
         ],
         "title": {
          "text": "crude_oil_imports"
         }
        }
       }
      },
      "text/html": [
       "<div>                            <div id=\"ccb63da3-8404-4aba-8825-c053f906141c\" class=\"plotly-graph-div\" style=\"height:400px; width:800px;\"></div>            <script type=\"text/javascript\">                require([\"plotly\"], function(Plotly) {                    window.PLOTLYENV=window.PLOTLYENV || {};                                    if (document.getElementById(\"ccb63da3-8404-4aba-8825-c053f906141c\")) {                    Plotly.newPlot(                        \"ccb63da3-8404-4aba-8825-c053f906141c\",                        [{\"hovertemplate\":\"date=%{x}<br>crude_oil_imports=%{y}<extra></extra>\",\"legendgroup\":\"\",\"line\":{\"color\":\"#4169E1\",\"dash\":\"solid\"},\"marker\":{\"symbol\":\"circle\"},\"mode\":\"lines\",\"name\":\"\",\"orientation\":\"v\",\"showlegend\":false,\"x\":[\"2009 01 \",\"2009 02 \",\"2009 03 \",\"2009 04 \",\"2009 05 \",\"2009 06 \",\"2009 07 \",\"2009 08 \",\"2009 09 \",\"2009 10 \",\"2009 11 \",\"2009 12 \",\"2010 01 \",\"2010 02 \",\"2010 03 \",\"2010 04 \",\"2010 05 \",\"2010 06 \",\"2010 07 \",\"2010 08 \",\"2010 09 \",\"2010 10 \",\"2010 11 \",\"2010 12 \",\"2011 01 \",\"2011 02 \",\"2011 03 \",\"2011 04 \",\"2011 05 \",\"2011 06 \",\"2011 07 \",\"2011 08 \",\"2011 09 \",\"2011 10 \",\"2011 11 \",\"2011 12 \",\"2012 01 \",\"2012 02 \",\"2012 03 \",\"2012 04 \",\"2012 05 \",\"2012 06 \",\"2012 07 \",\"2012 08 \",\"2012 09 \",\"2012 10 \",\"2012 11 \",\"2012 12 \",\"2013 01 \",\"2013 02 \",\"2013 03 \",\"2013 04 \",\"2013 05 \",\"2013 06 \",\"2013 07 \",\"2013 08 \",\"2013 09 \",\"2013 10 \",\"2013 11 \",\"2013 12 \",\"2014 01 \",\"2014 02 \",\"2014 03 \",\"2014 04 \",\"2014 05 \",\"2014 06 \",\"2014 07 \",\"2014 08 \",\"2014 09 \",\"2014 10 \",\"2014 11 \",\"2014 12 \",\"2015 01 \",\"2015 02 \",\"2015 03 \",\"2015 04 \",\"2015 05 \",\"2015 06 \",\"2015 07 \",\"2015 08 \",\"2015 09 \",\"2015 10 \",\"2015 11 \",\"2015 12 \",\"2016 01 \",\"2016 02 \",\"2016 03 \",\"2016 04 \",\"2016 05 \",\"2016 06 \",\"2016 07 \",\"2016 08 \",\"2016 09 \",\"2016 10 \",\"2016 11 \",\"2016 12 \",\"2017 01 \",\"2017 02 \",\"2017 03 \",\"2017 04 \",\"2017 05 \",\"2017 06 \",\"2017 07 \",\"2017 08 \",\"2017 09 \",\"2017 10 \",\"2017 11 \",\"2017 12 \",\"2018 01 \",\"2018 02 \",\"2018 03 \",\"2018 04 \",\"2018 05 \",\"2018 06 \",\"2018 07 \",\"2018 08 \",\"2018 09 \",\"2018 10 \",\"2018 11 \",\"2018 12 \",\"2019 01 \",\"2019 02 \",\"2019 03 \",\"2019 04 \",\"2019 05 \",\"2019 06 \",\"2019 07 \",\"2019 08 \",\"2019 09 \",\"2019 10 \",\"2019 11 \",\"2019 12 \",\"2020 01 \",\"2020 02 \",\"2020 03 \",\"2020 04 \",\"2020 05 \",\"2020 06 \",\"2020 07 \",\"2020 08 \",\"2020 09 \",\"2020 10 \",\"2020 11 \",\"2020 12 \",\"2021 01 \"],\"xaxis\":\"x\",\"y\":[317275,262339,303897,285934,281147,284093,287569,279111,289561,272678,273248,265615,274568,253150,299033,302836,310396,310153,318991,309053,284192,272415,271185,279096,296158,235122,292010,265822,289106,285572,295338,287633,273698,284594,268189,279359,257536,242560,271697,258417,272766,270684,266782,263945,250160,250303,244987,235120,245715,203162,231414,231621,238809,231912,245724,251079,237699,230822,222248,240519,234969,201572,225487,226639,222177,212025,236534,231649,224851,221600,218845,223978,222315,198807,235360,216229,224604,219618,228160,239212,216838,220171,221130,244965,236065,229492,248383,228344,245749,226802,250986,248482,241213,234666,240691,242213,262811,220558,253114,246132,264554,242677,245369,245611,219708,238109,230230,241245,248552,209942,236216,247608,242857,254283,246671,247656,227795,227975,226251,219240,234307,178257,210276,209958,221259,214563,215083,215273,194485,193493,174531,211837,198663,189060,195181,165586,188693,191919,183087,168406,161926,164494,168655,178597,181197],\"yaxis\":\"y\",\"type\":\"scatter\"}],                        {\"template\":{\"data\":{\"histogram2dcontour\":[{\"type\":\"histogram2dcontour\",\"colorbar\":{\"outlinewidth\":0,\"ticks\":\"\"},\"colorscale\":[[0.0,\"#0d0887\"],[0.1111111111111111,\"#46039f\"],[0.2222222222222222,\"#7201a8\"],[0.3333333333333333,\"#9c179e\"],[0.4444444444444444,\"#bd3786\"],[0.5555555555555556,\"#d8576b\"],[0.6666666666666666,\"#ed7953\"],[0.7777777777777778,\"#fb9f3a\"],[0.8888888888888888,\"#fdca26\"],[1.0,\"#f0f921\"]]}],\"choropleth\":[{\"type\":\"choropleth\",\"colorbar\":{\"outlinewidth\":0,\"ticks\":\"\"}}],\"histogram2d\":[{\"type\":\"histogram2d\",\"colorbar\":{\"outlinewidth\":0,\"ticks\":\"\"},\"colorscale\":[[0.0,\"#0d0887\"],[0.1111111111111111,\"#46039f\"],[0.2222222222222222,\"#7201a8\"],[0.3333333333333333,\"#9c179e\"],[0.4444444444444444,\"#bd3786\"],[0.5555555555555556,\"#d8576b\"],[0.6666666666666666,\"#ed7953\"],[0.7777777777777778,\"#fb9f3a\"],[0.8888888888888888,\"#fdca26\"],[1.0,\"#f0f921\"]]}],\"heatmap\":[{\"type\":\"heatmap\",\"colorbar\":{\"outlinewidth\":0,\"ticks\":\"\"},\"colorscale\":[[0.0,\"#0d0887\"],[0.1111111111111111,\"#46039f\"],[0.2222222222222222,\"#7201a8\"],[0.3333333333333333,\"#9c179e\"],[0.4444444444444444,\"#bd3786\"],[0.5555555555555556,\"#d8576b\"],[0.6666666666666666,\"#ed7953\"],[0.7777777777777778,\"#fb9f3a\"],[0.8888888888888888,\"#fdca26\"],[1.0,\"#f0f921\"]]}],\"heatmapgl\":[{\"type\":\"heatmapgl\",\"colorbar\":{\"outlinewidth\":0,\"ticks\":\"\"},\"colorscale\":[[0.0,\"#0d0887\"],[0.1111111111111111,\"#46039f\"],[0.2222222222222222,\"#7201a8\"],[0.3333333333333333,\"#9c179e\"],[0.4444444444444444,\"#bd3786\"],[0.5555555555555556,\"#d8576b\"],[0.6666666666666666,\"#ed7953\"],[0.7777777777777778,\"#fb9f3a\"],[0.8888888888888888,\"#fdca26\"],[1.0,\"#f0f921\"]]}],\"contourcarpet\":[{\"type\":\"contourcarpet\",\"colorbar\":{\"outlinewidth\":0,\"ticks\":\"\"}}],\"contour\":[{\"type\":\"contour\",\"colorbar\":{\"outlinewidth\":0,\"ticks\":\"\"},\"colorscale\":[[0.0,\"#0d0887\"],[0.1111111111111111,\"#46039f\"],[0.2222222222222222,\"#7201a8\"],[0.3333333333333333,\"#9c179e\"],[0.4444444444444444,\"#bd3786\"],[0.5555555555555556,\"#d8576b\"],[0.6666666666666666,\"#ed7953\"],[0.7777777777777778,\"#fb9f3a\"],[0.8888888888888888,\"#fdca26\"],[1.0,\"#f0f921\"]]}],\"surface\":[{\"type\":\"surface\",\"colorbar\":{\"outlinewidth\":0,\"ticks\":\"\"},\"colorscale\":[[0.0,\"#0d0887\"],[0.1111111111111111,\"#46039f\"],[0.2222222222222222,\"#7201a8\"],[0.3333333333333333,\"#9c179e\"],[0.4444444444444444,\"#bd3786\"],[0.5555555555555556,\"#d8576b\"],[0.6666666666666666,\"#ed7953\"],[0.7777777777777778,\"#fb9f3a\"],[0.8888888888888888,\"#fdca26\"],[1.0,\"#f0f921\"]]}],\"mesh3d\":[{\"type\":\"mesh3d\",\"colorbar\":{\"outlinewidth\":0,\"ticks\":\"\"}}],\"scatter\":[{\"fillpattern\":{\"fillmode\":\"overlay\",\"size\":10,\"solidity\":0.2},\"type\":\"scatter\"}],\"parcoords\":[{\"type\":\"parcoords\",\"line\":{\"colorbar\":{\"outlinewidth\":0,\"ticks\":\"\"}}}],\"scatterpolargl\":[{\"type\":\"scatterpolargl\",\"marker\":{\"colorbar\":{\"outlinewidth\":0,\"ticks\":\"\"}}}],\"bar\":[{\"error_x\":{\"color\":\"#2a3f5f\"},\"error_y\":{\"color\":\"#2a3f5f\"},\"marker\":{\"line\":{\"color\":\"#E5ECF6\",\"width\":0.5},\"pattern\":{\"fillmode\":\"overlay\",\"size\":10,\"solidity\":0.2}},\"type\":\"bar\"}],\"scattergeo\":[{\"type\":\"scattergeo\",\"marker\":{\"colorbar\":{\"outlinewidth\":0,\"ticks\":\"\"}}}],\"scatterpolar\":[{\"type\":\"scatterpolar\",\"marker\":{\"colorbar\":{\"outlinewidth\":0,\"ticks\":\"\"}}}],\"histogram\":[{\"marker\":{\"pattern\":{\"fillmode\":\"overlay\",\"size\":10,\"solidity\":0.2}},\"type\":\"histogram\"}],\"scattergl\":[{\"type\":\"scattergl\",\"marker\":{\"colorbar\":{\"outlinewidth\":0,\"ticks\":\"\"}}}],\"scatter3d\":[{\"type\":\"scatter3d\",\"line\":{\"colorbar\":{\"outlinewidth\":0,\"ticks\":\"\"}},\"marker\":{\"colorbar\":{\"outlinewidth\":0,\"ticks\":\"\"}}}],\"scattermapbox\":[{\"type\":\"scattermapbox\",\"marker\":{\"colorbar\":{\"outlinewidth\":0,\"ticks\":\"\"}}}],\"scatterternary\":[{\"type\":\"scatterternary\",\"marker\":{\"colorbar\":{\"outlinewidth\":0,\"ticks\":\"\"}}}],\"scattercarpet\":[{\"type\":\"scattercarpet\",\"marker\":{\"colorbar\":{\"outlinewidth\":0,\"ticks\":\"\"}}}],\"carpet\":[{\"aaxis\":{\"endlinecolor\":\"#2a3f5f\",\"gridcolor\":\"white\",\"linecolor\":\"white\",\"minorgridcolor\":\"white\",\"startlinecolor\":\"#2a3f5f\"},\"baxis\":{\"endlinecolor\":\"#2a3f5f\",\"gridcolor\":\"white\",\"linecolor\":\"white\",\"minorgridcolor\":\"white\",\"startlinecolor\":\"#2a3f5f\"},\"type\":\"carpet\"}],\"table\":[{\"cells\":{\"fill\":{\"color\":\"#EBF0F8\"},\"line\":{\"color\":\"white\"}},\"header\":{\"fill\":{\"color\":\"#C8D4E3\"},\"line\":{\"color\":\"white\"}},\"type\":\"table\"}],\"barpolar\":[{\"marker\":{\"line\":{\"color\":\"#E5ECF6\",\"width\":0.5},\"pattern\":{\"fillmode\":\"overlay\",\"size\":10,\"solidity\":0.2}},\"type\":\"barpolar\"}],\"pie\":[{\"automargin\":true,\"type\":\"pie\"}]},\"layout\":{\"autotypenumbers\":\"strict\",\"colorway\":[\"#636efa\",\"#EF553B\",\"#00cc96\",\"#ab63fa\",\"#FFA15A\",\"#19d3f3\",\"#FF6692\",\"#B6E880\",\"#FF97FF\",\"#FECB52\"],\"font\":{\"color\":\"#2a3f5f\"},\"hovermode\":\"closest\",\"hoverlabel\":{\"align\":\"left\"},\"paper_bgcolor\":\"white\",\"plot_bgcolor\":\"#E5ECF6\",\"polar\":{\"bgcolor\":\"#E5ECF6\",\"angularaxis\":{\"gridcolor\":\"white\",\"linecolor\":\"white\",\"ticks\":\"\"},\"radialaxis\":{\"gridcolor\":\"white\",\"linecolor\":\"white\",\"ticks\":\"\"}},\"ternary\":{\"bgcolor\":\"#E5ECF6\",\"aaxis\":{\"gridcolor\":\"white\",\"linecolor\":\"white\",\"ticks\":\"\"},\"baxis\":{\"gridcolor\":\"white\",\"linecolor\":\"white\",\"ticks\":\"\"},\"caxis\":{\"gridcolor\":\"white\",\"linecolor\":\"white\",\"ticks\":\"\"}},\"coloraxis\":{\"colorbar\":{\"outlinewidth\":0,\"ticks\":\"\"}},\"colorscale\":{\"sequential\":[[0.0,\"#0d0887\"],[0.1111111111111111,\"#46039f\"],[0.2222222222222222,\"#7201a8\"],[0.3333333333333333,\"#9c179e\"],[0.4444444444444444,\"#bd3786\"],[0.5555555555555556,\"#d8576b\"],[0.6666666666666666,\"#ed7953\"],[0.7777777777777778,\"#fb9f3a\"],[0.8888888888888888,\"#fdca26\"],[1.0,\"#f0f921\"]],\"sequentialminus\":[[0.0,\"#0d0887\"],[0.1111111111111111,\"#46039f\"],[0.2222222222222222,\"#7201a8\"],[0.3333333333333333,\"#9c179e\"],[0.4444444444444444,\"#bd3786\"],[0.5555555555555556,\"#d8576b\"],[0.6666666666666666,\"#ed7953\"],[0.7777777777777778,\"#fb9f3a\"],[0.8888888888888888,\"#fdca26\"],[1.0,\"#f0f921\"]],\"diverging\":[[0,\"#8e0152\"],[0.1,\"#c51b7d\"],[0.2,\"#de77ae\"],[0.3,\"#f1b6da\"],[0.4,\"#fde0ef\"],[0.5,\"#f7f7f7\"],[0.6,\"#e6f5d0\"],[0.7,\"#b8e186\"],[0.8,\"#7fbc41\"],[0.9,\"#4d9221\"],[1,\"#276419\"]]},\"xaxis\":{\"gridcolor\":\"white\",\"linecolor\":\"white\",\"ticks\":\"\",\"title\":{\"standoff\":15},\"zerolinecolor\":\"white\",\"automargin\":true,\"zerolinewidth\":2},\"yaxis\":{\"gridcolor\":\"white\",\"linecolor\":\"white\",\"ticks\":\"\",\"title\":{\"standoff\":15},\"zerolinecolor\":\"white\",\"automargin\":true,\"zerolinewidth\":2},\"scene\":{\"xaxis\":{\"backgroundcolor\":\"#E5ECF6\",\"gridcolor\":\"white\",\"linecolor\":\"white\",\"showbackground\":true,\"ticks\":\"\",\"zerolinecolor\":\"white\",\"gridwidth\":2},\"yaxis\":{\"backgroundcolor\":\"#E5ECF6\",\"gridcolor\":\"white\",\"linecolor\":\"white\",\"showbackground\":true,\"ticks\":\"\",\"zerolinecolor\":\"white\",\"gridwidth\":2},\"zaxis\":{\"backgroundcolor\":\"#E5ECF6\",\"gridcolor\":\"white\",\"linecolor\":\"white\",\"showbackground\":true,\"ticks\":\"\",\"zerolinecolor\":\"white\",\"gridwidth\":2}},\"shapedefaults\":{\"line\":{\"color\":\"#2a3f5f\"}},\"annotationdefaults\":{\"arrowcolor\":\"#2a3f5f\",\"arrowhead\":0,\"arrowwidth\":1},\"geo\":{\"bgcolor\":\"white\",\"landcolor\":\"#E5ECF6\",\"subunitcolor\":\"white\",\"showland\":true,\"showlakes\":true,\"lakecolor\":\"white\"},\"title\":{\"x\":0.05},\"mapbox\":{\"style\":\"light\"}}},\"xaxis\":{\"anchor\":\"y\",\"domain\":[0.0,1.0],\"title\":{\"text\":\"date\"}},\"yaxis\":{\"anchor\":\"x\",\"domain\":[0.0,1.0],\"title\":{\"text\":\"crude_oil_imports\"}},\"legend\":{\"tracegroupgap\":0},\"title\":{\"text\":\"US Crude Oil Imports Over Time\"},\"height\":400,\"width\":800},                        {\"responsive\": true}                    ).then(function(){\n",
       "                            \n",
       "var gd = document.getElementById('ccb63da3-8404-4aba-8825-c053f906141c');\n",
       "var x = new MutationObserver(function (mutations, observer) {{\n",
       "        var display = window.getComputedStyle(gd).display;\n",
       "        if (!display || display === 'none') {{\n",
       "            console.log([gd, 'removed!']);\n",
       "            Plotly.purge(gd);\n",
       "            observer.disconnect();\n",
       "        }}\n",
       "}});\n",
       "\n",
       "// Listen for the removal of the full notebook cells\n",
       "var notebookContainer = gd.closest('#notebook-container');\n",
       "if (notebookContainer) {{\n",
       "    x.observe(notebookContainer, {childList: true});\n",
       "}}\n",
       "\n",
       "// Listen for the clearing of the current output cell\n",
       "var outputEl = gd.closest('.output');\n",
       "if (outputEl) {{\n",
       "    x.observe(outputEl, {childList: true});\n",
       "}}\n",
       "\n",
       "                        })                };                });            </script>        </div>"
      ]
     },
     "metadata": {},
     "output_type": "display_data"
    }
   ],
   "source": [
    "fig = px.line(df, x='date', y='crude_oil_imports', title='US Crude Oil Imports Over Time',\n",
    "             width=800, height=400)\n",
    "fig.update_traces(line_color='#4169E1')\n",
    "fig.show()"
   ]
  },
  {
   "cell_type": "markdown",
   "id": "01ea55f6",
   "metadata": {},
   "source": [
    "## Convert the Date Column into Separate Columns of Year and Month"
   ]
  },
  {
   "cell_type": "code",
   "execution_count": 197,
   "id": "d928233b",
   "metadata": {},
   "outputs": [],
   "source": [
    "def get_features(dataframe):\n",
    "    dataframe['date'] = pd.to_datetime(dataframe['date'])\n",
    "    dataframe['year'] = dataframe.date.dt.year\n",
    "    dataframe['month'] = dataframe.date.dt.month\n",
    "    \n",
    "    return dataframe"
   ]
  },
  {
   "cell_type": "code",
   "execution_count": 198,
   "id": "d769cc1a",
   "metadata": {},
   "outputs": [
    {
     "data": {
      "text/html": [
       "<div>\n",
       "<style scoped>\n",
       "    .dataframe tbody tr th:only-of-type {\n",
       "        vertical-align: middle;\n",
       "    }\n",
       "\n",
       "    .dataframe tbody tr th {\n",
       "        vertical-align: top;\n",
       "    }\n",
       "\n",
       "    .dataframe thead th {\n",
       "        text-align: right;\n",
       "    }\n",
       "</style>\n",
       "<table border=\"1\" class=\"dataframe\">\n",
       "  <thead>\n",
       "    <tr style=\"text-align: right;\">\n",
       "      <th></th>\n",
       "      <th>date</th>\n",
       "      <th>crude_oil_imports</th>\n",
       "      <th>year</th>\n",
       "      <th>month</th>\n",
       "    </tr>\n",
       "  </thead>\n",
       "  <tbody>\n",
       "    <tr>\n",
       "      <th>0</th>\n",
       "      <td>2009-01-01</td>\n",
       "      <td>317275</td>\n",
       "      <td>2009</td>\n",
       "      <td>1</td>\n",
       "    </tr>\n",
       "    <tr>\n",
       "      <th>1</th>\n",
       "      <td>2009-02-01</td>\n",
       "      <td>262339</td>\n",
       "      <td>2009</td>\n",
       "      <td>2</td>\n",
       "    </tr>\n",
       "    <tr>\n",
       "      <th>2</th>\n",
       "      <td>2009-03-01</td>\n",
       "      <td>303897</td>\n",
       "      <td>2009</td>\n",
       "      <td>3</td>\n",
       "    </tr>\n",
       "    <tr>\n",
       "      <th>3</th>\n",
       "      <td>2009-04-01</td>\n",
       "      <td>285934</td>\n",
       "      <td>2009</td>\n",
       "      <td>4</td>\n",
       "    </tr>\n",
       "    <tr>\n",
       "      <th>4</th>\n",
       "      <td>2009-05-01</td>\n",
       "      <td>281147</td>\n",
       "      <td>2009</td>\n",
       "      <td>5</td>\n",
       "    </tr>\n",
       "  </tbody>\n",
       "</table>\n",
       "</div>"
      ],
      "text/plain": [
       "        date  crude_oil_imports  year  month\n",
       "0 2009-01-01             317275  2009      1\n",
       "1 2009-02-01             262339  2009      2\n",
       "2 2009-03-01             303897  2009      3\n",
       "3 2009-04-01             285934  2009      4\n",
       "4 2009-05-01             281147  2009      5"
      ]
     },
     "execution_count": 198,
     "metadata": {},
     "output_type": "execute_result"
    }
   ],
   "source": [
    "df = get_features(df)\n",
    "df.head()"
   ]
  },
  {
   "cell_type": "markdown",
   "id": "45e3d3b6",
   "metadata": {},
   "source": [
    "## Plot the Imports By Year"
   ]
  },
  {
   "cell_type": "code",
   "execution_count": 199,
   "id": "a13c423d",
   "metadata": {},
   "outputs": [
    {
     "data": {
      "text/plain": [
       "Text(0.5, 1.0, 'US Crude Oil Imports By Year')"
      ]
     },
     "execution_count": 199,
     "metadata": {},
     "output_type": "execute_result"
    },
    {
     "data": {
      "image/png": "[encoded data removed]",
      "text/plain": [
       "<Figure size 720x360 with 1 Axes>"
      ]
     },
     "metadata": {
      "needs_background": "light"
     },
     "output_type": "display_data"
    }
   ],
   "source": [
    "plt.figure(figsize=(10, 5))\n",
    "ax = sns.boxplot(x='year', y='crude_oil_imports', data=df)\n",
    "ax.set_xlabel('Year', fontsize=16)\n",
    "ax.set_ylabel('Thousand Barrels Imported', fontsize=16)\n",
    "ax.set_title('US Crude Oil Imports By Year', fontsize=20)\n"
   ]
  },
  {
   "cell_type": "markdown",
   "id": "7bec6cb8",
   "metadata": {},
   "source": [
    "## Plot the Imports By Month"
   ]
  },
  {
   "cell_type": "code",
   "execution_count": 200,
   "id": "5c26814b",
   "metadata": {},
   "outputs": [
    {
     "data": {
      "text/plain": [
       "Text(0.5, 1.0, 'US Crude Oil Imports By Month')"
      ]
     },
     "execution_count": 200,
     "metadata": {},
     "output_type": "execute_result"
    },
    {
     "data": {
      "image/png": "[encoded data removed]",
      "text/plain": [
       "<Figure size 720x360 with 1 Axes>"
      ]
     },
     "metadata": {
      "needs_background": "light"
     },
     "output_type": "display_data"
    }
   ],
   "source": [
    "plt.figure(figsize=(10, 5))\n",
    "ax = sns.boxplot(x='month', y='crude_oil_imports', data=df)\n",
    "ax.set_xlabel('Month', fontsize=16)\n",
    "ax.set_ylabel('Thousand Barrels Imported', fontsize=16)\n",
    "ax.set_title('US Crude Oil Imports By Month')"
   ]
  },
  {
   "cell_type": "markdown",
   "id": "50926d95",
   "metadata": {},
   "source": [
    "## Create Rolling Averages of Imports\n",
    "\n",
    "By taking and ploting a rolling average, the general trend of the data is more obvious. As well, the rolling average can be used as a mid point for creating standard deviations for outlier detection."
   ]
  },
  {
   "cell_type": "code",
   "execution_count": 201,
   "id": "31e760f2",
   "metadata": {},
   "outputs": [],
   "source": [
    "df['rolling_10'] = df['crude_oil_imports'].rolling(window=10).mean()"
   ]
  },
  {
   "cell_type": "code",
   "execution_count": 202,
   "id": "e440168f",
   "metadata": {},
   "outputs": [
    {
     "data": {
      "application/vnd.plotly.v1+json": {
       "config": {
        "plotlyServerURL": "https://plot.ly"
       },
       "data": [
        {
         "line": {
          "color": "#bec2ed"
         },
         "mode": "lines",
         "name": "Raw Data",
         "type": "scatter",
         "x": [
          "2009-01-01T00:00:00",
          "2009-02-01T00:00:00",
          "2009-03-01T00:00:00",
          "2009-04-01T00:00:00",
          "2009-05-01T00:00:00",
          "2009-06-01T00:00:00",
          "2009-07-01T00:00:00",
          "2009-08-01T00:00:00",
          "2009-09-01T00:00:00",
          "2009-10-01T00:00:00",
          "2009-11-01T00:00:00",
          "2009-12-01T00:00:00",
          "2010-01-01T00:00:00",
          "2010-02-01T00:00:00",
          "2010-03-01T00:00:00",
          "2010-04-01T00:00:00",
          "2010-05-01T00:00:00",
          "2010-06-01T00:00:00",
          "2010-07-01T00:00:00",
          "2010-08-01T00:00:00",
          "2010-09-01T00:00:00",
          "2010-10-01T00:00:00",
          "2010-11-01T00:00:00",
          "2010-12-01T00:00:00",
          "2011-01-01T00:00:00",
          "2011-02-01T00:00:00",
          "2011-03-01T00:00:00",
          "2011-04-01T00:00:00",
          "2011-05-01T00:00:00",
          "2011-06-01T00:00:00",
          "2011-07-01T00:00:00",
          "2011-08-01T00:00:00",
          "2011-09-01T00:00:00",
          "2011-10-01T00:00:00",
          "2011-11-01T00:00:00",
          "2011-12-01T00:00:00",
          "2012-01-01T00:00:00",
          "2012-02-01T00:00:00",
          "2012-03-01T00:00:00",
          "2012-04-01T00:00:00",
          "2012-05-01T00:00:00",
          "2012-06-01T00:00:00",
          "2012-07-01T00:00:00",
          "2012-08-01T00:00:00",
          "2012-09-01T00:00:00",
          "2012-10-01T00:00:00",
          "2012-11-01T00:00:00",
          "2012-12-01T00:00:00",
          "2013-01-01T00:00:00",
          "2013-02-01T00:00:00",
          "2013-03-01T00:00:00",
          "2013-04-01T00:00:00",
          "2013-05-01T00:00:00",
          "2013-06-01T00:00:00",
          "2013-07-01T00:00:00",
          "2013-08-01T00:00:00",
          "2013-09-01T00:00:00",
          "2013-10-01T00:00:00",
          "2013-11-01T00:00:00",
          "2013-12-01T00:00:00",
          "2014-01-01T00:00:00",
          "2014-02-01T00:00:00",
          "2014-03-01T00:00:00",
          "2014-04-01T00:00:00",
          "2014-05-01T00:00:00",
          "2014-06-01T00:00:00",
          "2014-07-01T00:00:00",
          "2014-08-01T00:00:00",
          "2014-09-01T00:00:00",
          "2014-10-01T00:00:00",
          "2014-11-01T00:00:00",
          "2014-12-01T00:00:00",
          "2015-01-01T00:00:00",
          "2015-02-01T00:00:00",
          "2015-03-01T00:00:00",
          "2015-04-01T00:00:00",
          "2015-05-01T00:00:00",
          "2015-06-01T00:00:00",
          "2015-07-01T00:00:00",
          "2015-08-01T00:00:00",
          "2015-09-01T00:00:00",
          "2015-10-01T00:00:00",
          "2015-11-01T00:00:00",
          "2015-12-01T00:00:00",
          "2016-01-01T00:00:00",
          "2016-02-01T00:00:00",
          "2016-03-01T00:00:00",
          "2016-04-01T00:00:00",
          "2016-05-01T00:00:00",
          "2016-06-01T00:00:00",
          "2016-07-01T00:00:00",
          "2016-08-01T00:00:00",
          "2016-09-01T00:00:00",
          "2016-10-01T00:00:00",
          "2016-11-01T00:00:00",
          "2016-12-01T00:00:00",
          "2017-01-01T00:00:00",
          "2017-02-01T00:00:00",
          "2017-03-01T00:00:00",
          "2017-04-01T00:00:00",
          "2017-05-01T00:00:00",
          "2017-06-01T00:00:00",
          "2017-07-01T00:00:00",
          "2017-08-01T00:00:00",
          "2017-09-01T00:00:00",
          "2017-10-01T00:00:00",
          "2017-11-01T00:00:00",
          "2017-12-01T00:00:00",
          "2018-01-01T00:00:00",
          "2018-02-01T00:00:00",
          "2018-03-01T00:00:00",
          "2018-04-01T00:00:00",
          "2018-05-01T00:00:00",
          "2018-06-01T00:00:00",
          "2018-07-01T00:00:00",
          "2018-08-01T00:00:00",
          "2018-09-01T00:00:00",
          "2018-10-01T00:00:00",
          "2018-11-01T00:00:00",
          "2018-12-01T00:00:00",
          "2019-01-01T00:00:00",
          "2019-02-01T00:00:00",
          "2019-03-01T00:00:00",
          "2019-04-01T00:00:00",
          "2019-05-01T00:00:00",
          "2019-06-01T00:00:00",
          "2019-07-01T00:00:00",
          "2019-08-01T00:00:00",
          "2019-09-01T00:00:00",
          "2019-10-01T00:00:00",
          "2019-11-01T00:00:00",
          "2019-12-01T00:00:00",
          "2020-01-01T00:00:00",
          "2020-02-01T00:00:00",
          "2020-03-01T00:00:00",
          "2020-04-01T00:00:00",
          "2020-05-01T00:00:00",
          "2020-06-01T00:00:00",
          "2020-07-01T00:00:00",
          "2020-08-01T00:00:00",
          "2020-09-01T00:00:00",
          "2020-10-01T00:00:00",
          "2020-11-01T00:00:00",
          "2020-12-01T00:00:00",
          "2021-01-01T00:00:00"
         ],
         "y": [
          317275,
          262339,
          303897,
          285934,
          281147,
          284093,
          287569,
          279111,
          289561,
          272678,
          273248,
          265615,
          274568,
          253150,
          299033,
          302836,
          310396,
          310153,
          318991,
          309053,
          284192,
          272415,
          271185,
          279096,
          296158,
          235122,
          292010,
          265822,
          289106,
          285572,
          295338,
          287633,
          273698,
          284594,
          268189,
          279359,
          257536,
          242560,
          271697,
          258417,
          272766,
          270684,
          266782,
          263945,
          250160,
          250303,
          244987,
          235120,
          245715,
          203162,
          231414,
          231621,
          238809,
          231912,
          245724,
          251079,
          237699,
          230822,
          222248,
          240519,
          234969,
          201572,
          225487,
          226639,
          222177,
          212025,
          236534,
          231649,
          224851,
          221600,
          218845,
          223978,
          222315,
          198807,
          235360,
          216229,
          224604,
          219618,
          228160,
          239212,
          216838,
          220171,
          221130,
          244965,
          236065,
          229492,
          248383,
          228344,
          245749,
          226802,
          250986,
          248482,
          241213,
          234666,
          240691,
          242213,
          262811,
          220558,
          253114,
          246132,
          264554,
          242677,
          245369,
          245611,
          219708,
          238109,
          230230,
          241245,
          248552,
          209942,
          236216,
          247608,
          242857,
          254283,
          246671,
          247656,
          227795,
          227975,
          226251,
          219240,
          234307,
          178257,
          210276,
          209958,
          221259,
          214563,
          215083,
          215273,
          194485,
          193493,
          174531,
          211837,
          198663,
          189060,
          195181,
          165586,
          188693,
          191919,
          183087,
          168406,
          161926,
          164494,
          168655,
          178597,
          181197
         ]
        },
        {
         "line": {
          "color": "#d99543",
          "dash": "dash"
         },
         "mode": "lines",
         "name": "Rolling 10",
         "type": "scatter",
         "x": [
          "2009-01-01T00:00:00",
          "2009-02-01T00:00:00",
          "2009-03-01T00:00:00",
          "2009-04-01T00:00:00",
          "2009-05-01T00:00:00",
          "2009-06-01T00:00:00",
          "2009-07-01T00:00:00",
          "2009-08-01T00:00:00",
          "2009-09-01T00:00:00",
          "2009-10-01T00:00:00",
          "2009-11-01T00:00:00",
          "2009-12-01T00:00:00",
          "2010-01-01T00:00:00",
          "2010-02-01T00:00:00",
          "2010-03-01T00:00:00",
          "2010-04-01T00:00:00",
          "2010-05-01T00:00:00",
          "2010-06-01T00:00:00",
          "2010-07-01T00:00:00",
          "2010-08-01T00:00:00",
          "2010-09-01T00:00:00",
          "2010-10-01T00:00:00",
          "2010-11-01T00:00:00",
          "2010-12-01T00:00:00",
          "2011-01-01T00:00:00",
          "2011-02-01T00:00:00",
          "2011-03-01T00:00:00",
          "2011-04-01T00:00:00",
          "2011-05-01T00:00:00",
          "2011-06-01T00:00:00",
          "2011-07-01T00:00:00",
          "2011-08-01T00:00:00",
          "2011-09-01T00:00:00",
          "2011-10-01T00:00:00",
          "2011-11-01T00:00:00",
          "2011-12-01T00:00:00",
          "2012-01-01T00:00:00",
          "2012-02-01T00:00:00",
          "2012-03-01T00:00:00",
          "2012-04-01T00:00:00",
          "2012-05-01T00:00:00",
          "2012-06-01T00:00:00",
          "2012-07-01T00:00:00",
          "2012-08-01T00:00:00",
          "2012-09-01T00:00:00",
          "2012-10-01T00:00:00",
          "2012-11-01T00:00:00",
          "2012-12-01T00:00:00",
          "2013-01-01T00:00:00",
          "2013-02-01T00:00:00",
          "2013-03-01T00:00:00",
          "2013-04-01T00:00:00",
          "2013-05-01T00:00:00",
          "2013-06-01T00:00:00",
          "2013-07-01T00:00:00",
          "2013-08-01T00:00:00",
          "2013-09-01T00:00:00",
          "2013-10-01T00:00:00",
          "2013-11-01T00:00:00",
          "2013-12-01T00:00:00",
          "2014-01-01T00:00:00",
          "2014-02-01T00:00:00",
          "2014-03-01T00:00:00",
          "2014-04-01T00:00:00",
          "2014-05-01T00:00:00",
          "2014-06-01T00:00:00",
          "2014-07-01T00:00:00",
          "2014-08-01T00:00:00",
          "2014-09-01T00:00:00",
          "2014-10-01T00:00:00",
          "2014-11-01T00:00:00",
          "2014-12-01T00:00:00",
          "2015-01-01T00:00:00",
          "2015-02-01T00:00:00",
          "2015-03-01T00:00:00",
          "2015-04-01T00:00:00",
          "2015-05-01T00:00:00",
          "2015-06-01T00:00:00",
          "2015-07-01T00:00:00",
          "2015-08-01T00:00:00",
          "2015-09-01T00:00:00",
          "2015-10-01T00:00:00",
          "2015-11-01T00:00:00",
          "2015-12-01T00:00:00",
          "2016-01-01T00:00:00",
          "2016-02-01T00:00:00",
          "2016-03-01T00:00:00",
          "2016-04-01T00:00:00",
          "2016-05-01T00:00:00",
          "2016-06-01T00:00:00",
          "2016-07-01T00:00:00",
          "2016-08-01T00:00:00",
          "2016-09-01T00:00:00",
          "2016-10-01T00:00:00",
          "2016-11-01T00:00:00",
          "2016-12-01T00:00:00",
          "2017-01-01T00:00:00",
          "2017-02-01T00:00:00",
          "2017-03-01T00:00:00",
          "2017-04-01T00:00:00",
          "2017-05-01T00:00:00",
          "2017-06-01T00:00:00",
          "2017-07-01T00:00:00",
          "2017-08-01T00:00:00",
          "2017-09-01T00:00:00",
          "2017-10-01T00:00:00",
          "2017-11-01T00:00:00",
          "2017-12-01T00:00:00",
          "2018-01-01T00:00:00",
          "2018-02-01T00:00:00",
          "2018-03-01T00:00:00",
          "2018-04-01T00:00:00",
          "2018-05-01T00:00:00",
          "2018-06-01T00:00:00",
          "2018-07-01T00:00:00",
          "2018-08-01T00:00:00",
          "2018-09-01T00:00:00",
          "2018-10-01T00:00:00",
          "2018-11-01T00:00:00",
          "2018-12-01T00:00:00",
          "2019-01-01T00:00:00",
          "2019-02-01T00:00:00",
          "2019-03-01T00:00:00",
          "2019-04-01T00:00:00",
          "2019-05-01T00:00:00",
          "2019-06-01T00:00:00",
          "2019-07-01T00:00:00",
          "2019-08-01T00:00:00",
          "2019-09-01T00:00:00",
          "2019-10-01T00:00:00",
          "2019-11-01T00:00:00",
          "2019-12-01T00:00:00",
          "2020-01-01T00:00:00",
          "2020-02-01T00:00:00",
          "2020-03-01T00:00:00",
          "2020-04-01T00:00:00",
          "2020-05-01T00:00:00",
          "2020-06-01T00:00:00",
          "2020-07-01T00:00:00",
          "2020-08-01T00:00:00",
          "2020-09-01T00:00:00",
          "2020-10-01T00:00:00",
          "2020-11-01T00:00:00",
          "2020-12-01T00:00:00",
          "2021-01-01T00:00:00"
         ],
         "y": [
          null,
          null,
          null,
          null,
          null,
          null,
          null,
          null,
          null,
          286360.4,
          281957.7,
          282285.3,
          279352.4,
          276074,
          277862.6,
          279736.9,
          282019.6,
          285123.8,
          288066.8,
          291704.3,
          292798.7,
          293478.7,
          293140.4,
          295735,
          295447.5,
          288676.1,
          286837.5,
          282404.4,
          279415.9,
          277067.8,
          278182.4,
          279704.2,
          279955.5,
          280505.3,
          277708.4,
          282132.1,
          278684.7,
          276358.5,
          274617.6,
          271902.1,
          269644.9,
          267950,
          267258.4,
          265193.5,
          263390.6,
          260485,
          259230.1,
          258486.1,
          255887.9,
          250362.4,
          246227.2,
          242320.9,
          239523.6,
          236320.3,
          235876.7,
          235954.3,
          235225.5,
          234795.7,
          232449,
          236184.7,
          236540.2,
          233535.3,
          232203.1,
          231675.8,
          229321.1,
          225415.7,
          225299.2,
          225381.9,
          225642.2,
          223750.3,
          222137.9,
          224378.5,
          224061.3,
          221278.1,
          222596.4,
          223016.8,
          221823.8,
          220620.7,
          220951.6,
          222712.8,
          222512.1,
          222131.4,
          222012.9,
          226628.7,
          226699.2,
          228025.5,
          230403.4,
          231276,
          233034.9,
          231793.9,
          235208.7,
          238039.8,
          240048.1,
          239018.2,
          239480.8,
          240752.9,
          242195.7,
          241417.1,
          242153.6,
          244086.6,
          245443.4,
          244862.9,
          245278.5,
          246373,
          244274.7,
          243864.3,
          240606.2,
          242674.9,
          242218.7,
          238599.7,
          235765.9,
          236259,
          236007.8,
          236875,
          239571.3,
          240526,
          240282.5,
          238955.5,
          236725.4,
          237655.2,
          237464.3,
          230529.2,
          227271.1,
          222838.6,
          220297.4,
          216988.1,
          215716.9,
          214446.7,
          211270.1,
          208695.4,
          202717.8,
          206075.8,
          204914.5,
          202824.7,
          200216.9,
          195319.2,
          192680.2,
          190344.8,
          189205,
          186696.3,
          185435.8,
          180701.5,
          177700.7,
          176654.4,
          175256
         ]
        }
       ],
       "layout": {
        "height": 500,
        "template": {
         "data": {
          "bar": [
           {
            "error_x": {
             "color": "#2a3f5f"
            },
            "error_y": {
             "color": "#2a3f5f"
            },
            "marker": {
             "line": {
              "color": "#E5ECF6",
              "width": 0.5
             },
             "pattern": {
              "fillmode": "overlay",
              "size": 10,
              "solidity": 0.2
             }
            },
            "type": "bar"
           }
          ],
          "barpolar": [
           {
            "marker": {
             "line": {
              "color": "#E5ECF6",
              "width": 0.5
             },
             "pattern": {
              "fillmode": "overlay",
              "size": 10,
              "solidity": 0.2
             }
            },
            "type": "barpolar"
           }
          ],
          "carpet": [
           {
            "aaxis": {
             "endlinecolor": "#2a3f5f",
             "gridcolor": "white",
             "linecolor": "white",
             "minorgridcolor": "white",
             "startlinecolor": "#2a3f5f"
            },
            "baxis": {
             "endlinecolor": "#2a3f5f",
             "gridcolor": "white",
             "linecolor": "white",
             "minorgridcolor": "white",
             "startlinecolor": "#2a3f5f"
            },
            "type": "carpet"
           }
          ],
          "choropleth": [
           {
            "colorbar": {
             "outlinewidth": 0,
             "ticks": ""
            },
            "type": "choropleth"
           }
          ],
          "contour": [
           {
            "colorbar": {
             "outlinewidth": 0,
             "ticks": ""
            },
            "colorscale": [
             [
              0,
              "#0d0887"
             ],
             [
              0.1111111111111111,
              "#46039f"
             ],
             [
              0.2222222222222222,
              "#7201a8"
             ],
             [
              0.3333333333333333,
              "#9c179e"
             ],
             [
              0.4444444444444444,
              "#bd3786"
             ],
             [
              0.5555555555555556,
              "#d8576b"
             ],
             [
              0.6666666666666666,
              "#ed7953"
             ],
             [
              0.7777777777777778,
              "#fb9f3a"
             ],
             [
              0.8888888888888888,
              "#fdca26"
             ],
             [
              1,
              "#f0f921"
             ]
            ],
            "type": "contour"
           }
          ],
          "contourcarpet": [
           {
            "colorbar": {
             "outlinewidth": 0,
             "ticks": ""
            },
            "type": "contourcarpet"
           }
          ],
          "heatmap": [
           {
            "colorbar": {
             "outlinewidth": 0,
             "ticks": ""
            },
            "colorscale": [
             [
              0,
              "#0d0887"
             ],
             [
              0.1111111111111111,
              "#46039f"
             ],
             [
              0.2222222222222222,
              "#7201a8"
             ],
             [
              0.3333333333333333,
              "#9c179e"
             ],
             [
              0.4444444444444444,
              "#bd3786"
             ],
             [
              0.5555555555555556,
              "#d8576b"
             ],
             [
              0.6666666666666666,
              "#ed7953"
             ],
             [
              0.7777777777777778,
              "#fb9f3a"
             ],
             [
              0.8888888888888888,
              "#fdca26"
             ],
             [
              1,
              "#f0f921"
             ]
            ],
            "type": "heatmap"
           }
          ],
          "heatmapgl": [
           {
            "colorbar": {
             "outlinewidth": 0,
             "ticks": ""
            },
            "colorscale": [
             [
              0,
              "#0d0887"
             ],
             [
              0.1111111111111111,
              "#46039f"
             ],
             [
              0.2222222222222222,
              "#7201a8"
             ],
             [
              0.3333333333333333,
              "#9c179e"
             ],
             [
              0.4444444444444444,
              "#bd3786"
             ],
             [
              0.5555555555555556,
              "#d8576b"
             ],
             [
              0.6666666666666666,
              "#ed7953"
             ],
             [
              0.7777777777777778,
              "#fb9f3a"
             ],
             [
              0.8888888888888888,
              "#fdca26"
             ],
             [
              1,
              "#f0f921"
             ]
            ],
            "type": "heatmapgl"
           }
          ],
          "histogram": [
           {
            "marker": {
             "pattern": {
              "fillmode": "overlay",
              "size": 10,
              "solidity": 0.2
             }
            },
            "type": "histogram"
           }
          ],
          "histogram2d": [
           {
            "colorbar": {
             "outlinewidth": 0,
             "ticks": ""
            },
            "colorscale": [
             [
              0,
              "#0d0887"
             ],
             [
              0.1111111111111111,
              "#46039f"
             ],
             [
              0.2222222222222222,
              "#7201a8"
             ],
             [
              0.3333333333333333,
              "#9c179e"
             ],
             [
              0.4444444444444444,
              "#bd3786"
             ],
             [
              0.5555555555555556,
              "#d8576b"
             ],
             [
              0.6666666666666666,
              "#ed7953"
             ],
             [
              0.7777777777777778,
              "#fb9f3a"
             ],
             [
              0.8888888888888888,
              "#fdca26"
             ],
             [
              1,
              "#f0f921"
             ]
            ],
            "type": "histogram2d"
           }
          ],
          "histogram2dcontour": [
           {
            "colorbar": {
             "outlinewidth": 0,
             "ticks": ""
            },
            "colorscale": [
             [
              0,
              "#0d0887"
             ],
             [
              0.1111111111111111,
              "#46039f"
             ],
             [
              0.2222222222222222,
              "#7201a8"
             ],
             [
              0.3333333333333333,
              "#9c179e"
             ],
             [
              0.4444444444444444,
              "#bd3786"
             ],
             [
              0.5555555555555556,
              "#d8576b"
             ],
             [
              0.6666666666666666,
              "#ed7953"
             ],
             [
              0.7777777777777778,
              "#fb9f3a"
             ],
             [
              0.8888888888888888,
              "#fdca26"
             ],
             [
              1,
              "#f0f921"
             ]
            ],
            "type": "histogram2dcontour"
           }
          ],
          "mesh3d": [
           {
            "colorbar": {
             "outlinewidth": 0,
             "ticks": ""
            },
            "type": "mesh3d"
           }
          ],
          "parcoords": [
           {
            "line": {
             "colorbar": {
              "outlinewidth": 0,
              "ticks": ""
             }
            },
            "type": "parcoords"
           }
          ],
          "pie": [
           {
            "automargin": true,
            "type": "pie"
           }
          ],
          "scatter": [
           {
            "fillpattern": {
             "fillmode": "overlay",
             "size": 10,
             "solidity": 0.2
            },
            "type": "scatter"
           }
          ],
          "scatter3d": [
           {
            "line": {
             "colorbar": {
              "outlinewidth": 0,
              "ticks": ""
             }
            },
            "marker": {
             "colorbar": {
              "outlinewidth": 0,
              "ticks": ""
             }
            },
            "type": "scatter3d"
           }
          ],
          "scattercarpet": [
           {
            "marker": {
             "colorbar": {
              "outlinewidth": 0,
              "ticks": ""
             }
            },
            "type": "scattercarpet"
           }
          ],
          "scattergeo": [
           {
            "marker": {
             "colorbar": {
              "outlinewidth": 0,
              "ticks": ""
             }
            },
            "type": "scattergeo"
           }
          ],
          "scattergl": [
           {
            "marker": {
             "colorbar": {
              "outlinewidth": 0,
              "ticks": ""
             }
            },
            "type": "scattergl"
           }
          ],
          "scattermapbox": [
           {
            "marker": {
             "colorbar": {
              "outlinewidth": 0,
              "ticks": ""
             }
            },
            "type": "scattermapbox"
           }
          ],
          "scatterpolar": [
           {
            "marker": {
             "colorbar": {
              "outlinewidth": 0,
              "ticks": ""
             }
            },
            "type": "scatterpolar"
           }
          ],
          "scatterpolargl": [
           {
            "marker": {
             "colorbar": {
              "outlinewidth": 0,
              "ticks": ""
             }
            },
            "type": "scatterpolargl"
           }
          ],
          "scatterternary": [
           {
            "marker": {
             "colorbar": {
              "outlinewidth": 0,
              "ticks": ""
             }
            },
            "type": "scatterternary"
           }
          ],
          "surface": [
           {
            "colorbar": {
             "outlinewidth": 0,
             "ticks": ""
            },
            "colorscale": [
             [
              0,
              "#0d0887"
             ],
             [
              0.1111111111111111,
              "#46039f"
             ],
             [
              0.2222222222222222,
              "#7201a8"
             ],
             [
              0.3333333333333333,
              "#9c179e"
             ],
             [
              0.4444444444444444,
              "#bd3786"
             ],
             [
              0.5555555555555556,
              "#d8576b"
             ],
             [
              0.6666666666666666,
              "#ed7953"
             ],
             [
              0.7777777777777778,
              "#fb9f3a"
             ],
             [
              0.8888888888888888,
              "#fdca26"
             ],
             [
              1,
              "#f0f921"
             ]
            ],
            "type": "surface"
           }
          ],
          "table": [
           {
            "cells": {
             "fill": {
              "color": "#EBF0F8"
             },
             "line": {
              "color": "white"
             }
            },
            "header": {
             "fill": {
              "color": "#C8D4E3"
             },
             "line": {
              "color": "white"
             }
            },
            "type": "table"
           }
          ]
         },
         "layout": {
          "annotationdefaults": {
           "arrowcolor": "#2a3f5f",
           "arrowhead": 0,
           "arrowwidth": 1
          },
          "autotypenumbers": "strict",
          "coloraxis": {
           "colorbar": {
            "outlinewidth": 0,
            "ticks": ""
           }
          },
          "colorscale": {
           "diverging": [
            [
             0,
             "#8e0152"
            ],
            [
             0.1,
             "#c51b7d"
            ],
            [
             0.2,
             "#de77ae"
            ],
            [
             0.3,
             "#f1b6da"
            ],
            [
             0.4,
             "#fde0ef"
            ],
            [
             0.5,
             "#f7f7f7"
            ],
            [
             0.6,
             "#e6f5d0"
            ],
            [
             0.7,
             "#b8e186"
            ],
            [
             0.8,
             "#7fbc41"
            ],
            [
             0.9,
             "#4d9221"
            ],
            [
             1,
             "#276419"
            ]
           ],
           "sequential": [
            [
             0,
             "#0d0887"
            ],
            [
             0.1111111111111111,
             "#46039f"
            ],
            [
             0.2222222222222222,
             "#7201a8"
            ],
            [
             0.3333333333333333,
             "#9c179e"
            ],
            [
             0.4444444444444444,
             "#bd3786"
            ],
            [
             0.5555555555555556,
             "#d8576b"
            ],
            [
             0.6666666666666666,
             "#ed7953"
            ],
            [
             0.7777777777777778,
             "#fb9f3a"
            ],
            [
             0.8888888888888888,
             "#fdca26"
            ],
            [
             1,
             "#f0f921"
            ]
           ],
           "sequentialminus": [
            [
             0,
             "#0d0887"
            ],
            [
             0.1111111111111111,
             "#46039f"
            ],
            [
             0.2222222222222222,
             "#7201a8"
            ],
            [
             0.3333333333333333,
             "#9c179e"
            ],
            [
             0.4444444444444444,
             "#bd3786"
            ],
            [
             0.5555555555555556,
             "#d8576b"
            ],
            [
             0.6666666666666666,
             "#ed7953"
            ],
            [
             0.7777777777777778,
             "#fb9f3a"
            ],
            [
             0.8888888888888888,
             "#fdca26"
            ],
            [
             1,
             "#f0f921"
            ]
           ]
          },
          "colorway": [
           "#636efa",
           "#EF553B",
           "#00cc96",
           "#ab63fa",
           "#FFA15A",
           "#19d3f3",
           "#FF6692",
           "#B6E880",
           "#FF97FF",
           "#FECB52"
          ],
          "font": {
           "color": "#2a3f5f"
          },
          "geo": {
           "bgcolor": "white",
           "lakecolor": "white",
           "landcolor": "#E5ECF6",
           "showlakes": true,
           "showland": true,
           "subunitcolor": "white"
          },
          "hoverlabel": {
           "align": "left"
          },
          "hovermode": "closest",
          "mapbox": {
           "style": "light"
          },
          "paper_bgcolor": "white",
          "plot_bgcolor": "#E5ECF6",
          "polar": {
           "angularaxis": {
            "gridcolor": "white",
            "linecolor": "white",
            "ticks": ""
           },
           "bgcolor": "#E5ECF6",
           "radialaxis": {
            "gridcolor": "white",
            "linecolor": "white",
            "ticks": ""
           }
          },
          "scene": {
           "xaxis": {
            "backgroundcolor": "#E5ECF6",
            "gridcolor": "white",
            "gridwidth": 2,
            "linecolor": "white",
            "showbackground": true,
            "ticks": "",
            "zerolinecolor": "white"
           },
           "yaxis": {
            "backgroundcolor": "#E5ECF6",
            "gridcolor": "white",
            "gridwidth": 2,
            "linecolor": "white",
            "showbackground": true,
            "ticks": "",
            "zerolinecolor": "white"
           },
           "zaxis": {
            "backgroundcolor": "#E5ECF6",
            "gridcolor": "white",
            "gridwidth": 2,
            "linecolor": "white",
            "showbackground": true,
            "ticks": "",
            "zerolinecolor": "white"
           }
          },
          "shapedefaults": {
           "line": {
            "color": "#2a3f5f"
           }
          },
          "ternary": {
           "aaxis": {
            "gridcolor": "white",
            "linecolor": "white",
            "ticks": ""
           },
           "baxis": {
            "gridcolor": "white",
            "linecolor": "white",
            "ticks": ""
           },
           "bgcolor": "#E5ECF6",
           "caxis": {
            "gridcolor": "white",
            "linecolor": "white",
            "ticks": ""
           }
          },
          "title": {
           "x": 0.05
          },
          "xaxis": {
           "automargin": true,
           "gridcolor": "white",
           "linecolor": "white",
           "ticks": "",
           "title": {
            "standoff": 15
           },
           "zerolinecolor": "white",
           "zerolinewidth": 2
          },
          "yaxis": {
           "automargin": true,
           "gridcolor": "white",
           "linecolor": "white",
           "ticks": "",
           "title": {
            "standoff": 15
           },
           "zerolinecolor": "white",
           "zerolinewidth": 2
          }
         }
        },
        "width": 800
       }
      },
      "text/html": [
       "<div>                            <div id=\"e7e7903b-a704-4602-b714-0a96873a051f\" class=\"plotly-graph-div\" style=\"height:500px; width:800px;\"></div>            <script type=\"text/javascript\">                require([\"plotly\"], function(Plotly) {                    window.PLOTLYENV=window.PLOTLYENV || {};                                    if (document.getElementById(\"e7e7903b-a704-4602-b714-0a96873a051f\")) {                    Plotly.newPlot(                        \"e7e7903b-a704-4602-b714-0a96873a051f\",                        [{\"line\":{\"color\":\"#bec2ed\"},\"mode\":\"lines\",\"name\":\"Raw Data\",\"x\":[\"2009-01-01T00:00:00\",\"2009-02-01T00:00:00\",\"2009-03-01T00:00:00\",\"2009-04-01T00:00:00\",\"2009-05-01T00:00:00\",\"2009-06-01T00:00:00\",\"2009-07-01T00:00:00\",\"2009-08-01T00:00:00\",\"2009-09-01T00:00:00\",\"2009-10-01T00:00:00\",\"2009-11-01T00:00:00\",\"2009-12-01T00:00:00\",\"2010-01-01T00:00:00\",\"2010-02-01T00:00:00\",\"2010-03-01T00:00:00\",\"2010-04-01T00:00:00\",\"2010-05-01T00:00:00\",\"2010-06-01T00:00:00\",\"2010-07-01T00:00:00\",\"2010-08-01T00:00:00\",\"2010-09-01T00:00:00\",\"2010-10-01T00:00:00\",\"2010-11-01T00:00:00\",\"2010-12-01T00:00:00\",\"2011-01-01T00:00:00\",\"2011-02-01T00:00:00\",\"2011-03-01T00:00:00\",\"2011-04-01T00:00:00\",\"2011-05-01T00:00:00\",\"2011-06-01T00:00:00\",\"2011-07-01T00:00:00\",\"2011-08-01T00:00:00\",\"2011-09-01T00:00:00\",\"2011-10-01T00:00:00\",\"2011-11-01T00:00:00\",\"2011-12-01T00:00:00\",\"2012-01-01T00:00:00\",\"2012-02-01T00:00:00\",\"2012-03-01T00:00:00\",\"2012-04-01T00:00:00\",\"2012-05-01T00:00:00\",\"2012-06-01T00:00:00\",\"2012-07-01T00:00:00\",\"2012-08-01T00:00:00\",\"2012-09-01T00:00:00\",\"2012-10-01T00:00:00\",\"2012-11-01T00:00:00\",\"2012-12-01T00:00:00\",\"2013-01-01T00:00:00\",\"2013-02-01T00:00:00\",\"2013-03-01T00:00:00\",\"2013-04-01T00:00:00\",\"2013-05-01T00:00:00\",\"2013-06-01T00:00:00\",\"2013-07-01T00:00:00\",\"2013-08-01T00:00:00\",\"2013-09-01T00:00:00\",\"2013-10-01T00:00:00\",\"2013-11-01T00:00:00\",\"2013-12-01T00:00:00\",\"2014-01-01T00:00:00\",\"2014-02-01T00:00:00\",\"2014-03-01T00:00:00\",\"2014-04-01T00:00:00\",\"2014-05-01T00:00:00\",\"2014-06-01T00:00:00\",\"2014-07-01T00:00:00\",\"2014-08-01T00:00:00\",\"2014-09-01T00:00:00\",\"2014-10-01T00:00:00\",\"2014-11-01T00:00:00\",\"2014-12-01T00:00:00\",\"2015-01-01T00:00:00\",\"2015-02-01T00:00:00\",\"2015-03-01T00:00:00\",\"2015-04-01T00:00:00\",\"2015-05-01T00:00:00\",\"2015-06-01T00:00:00\",\"2015-07-01T00:00:00\",\"2015-08-01T00:00:00\",\"2015-09-01T00:00:00\",\"2015-10-01T00:00:00\",\"2015-11-01T00:00:00\",\"2015-12-01T00:00:00\",\"2016-01-01T00:00:00\",\"2016-02-01T00:00:00\",\"2016-03-01T00:00:00\",\"2016-04-01T00:00:00\",\"2016-05-01T00:00:00\",\"2016-06-01T00:00:00\",\"2016-07-01T00:00:00\",\"2016-08-01T00:00:00\",\"2016-09-01T00:00:00\",\"2016-10-01T00:00:00\",\"2016-11-01T00:00:00\",\"2016-12-01T00:00:00\",\"2017-01-01T00:00:00\",\"2017-02-01T00:00:00\",\"2017-03-01T00:00:00\",\"2017-04-01T00:00:00\",\"2017-05-01T00:00:00\",\"2017-06-01T00:00:00\",\"2017-07-01T00:00:00\",\"2017-08-01T00:00:00\",\"2017-09-01T00:00:00\",\"2017-10-01T00:00:00\",\"2017-11-01T00:00:00\",\"2017-12-01T00:00:00\",\"2018-01-01T00:00:00\",\"2018-02-01T00:00:00\",\"2018-03-01T00:00:00\",\"2018-04-01T00:00:00\",\"2018-05-01T00:00:00\",\"2018-06-01T00:00:00\",\"2018-07-01T00:00:00\",\"2018-08-01T00:00:00\",\"2018-09-01T00:00:00\",\"2018-10-01T00:00:00\",\"2018-11-01T00:00:00\",\"2018-12-01T00:00:00\",\"2019-01-01T00:00:00\",\"2019-02-01T00:00:00\",\"2019-03-01T00:00:00\",\"2019-04-01T00:00:00\",\"2019-05-01T00:00:00\",\"2019-06-01T00:00:00\",\"2019-07-01T00:00:00\",\"2019-08-01T00:00:00\",\"2019-09-01T00:00:00\",\"2019-10-01T00:00:00\",\"2019-11-01T00:00:00\",\"2019-12-01T00:00:00\",\"2020-01-01T00:00:00\",\"2020-02-01T00:00:00\",\"2020-03-01T00:00:00\",\"2020-04-01T00:00:00\",\"2020-05-01T00:00:00\",\"2020-06-01T00:00:00\",\"2020-07-01T00:00:00\",\"2020-08-01T00:00:00\",\"2020-09-01T00:00:00\",\"2020-10-01T00:00:00\",\"2020-11-01T00:00:00\",\"2020-12-01T00:00:00\",\"2021-01-01T00:00:00\"],\"y\":[317275,262339,303897,285934,281147,284093,287569,279111,289561,272678,273248,265615,274568,253150,299033,302836,310396,310153,318991,309053,284192,272415,271185,279096,296158,235122,292010,265822,289106,285572,295338,287633,273698,284594,268189,279359,257536,242560,271697,258417,272766,270684,266782,263945,250160,250303,244987,235120,245715,203162,231414,231621,238809,231912,245724,251079,237699,230822,222248,240519,234969,201572,225487,226639,222177,212025,236534,231649,224851,221600,218845,223978,222315,198807,235360,216229,224604,219618,228160,239212,216838,220171,221130,244965,236065,229492,248383,228344,245749,226802,250986,248482,241213,234666,240691,242213,262811,220558,253114,246132,264554,242677,245369,245611,219708,238109,230230,241245,248552,209942,236216,247608,242857,254283,246671,247656,227795,227975,226251,219240,234307,178257,210276,209958,221259,214563,215083,215273,194485,193493,174531,211837,198663,189060,195181,165586,188693,191919,183087,168406,161926,164494,168655,178597,181197],\"type\":\"scatter\"},{\"line\":{\"color\":\"#d99543\",\"dash\":\"dash\"},\"mode\":\"lines\",\"name\":\"Rolling 10\",\"x\":[\"2009-01-01T00:00:00\",\"2009-02-01T00:00:00\",\"2009-03-01T00:00:00\",\"2009-04-01T00:00:00\",\"2009-05-01T00:00:00\",\"2009-06-01T00:00:00\",\"2009-07-01T00:00:00\",\"2009-08-01T00:00:00\",\"2009-09-01T00:00:00\",\"2009-10-01T00:00:00\",\"2009-11-01T00:00:00\",\"2009-12-01T00:00:00\",\"2010-01-01T00:00:00\",\"2010-02-01T00:00:00\",\"2010-03-01T00:00:00\",\"2010-04-01T00:00:00\",\"2010-05-01T00:00:00\",\"2010-06-01T00:00:00\",\"2010-07-01T00:00:00\",\"2010-08-01T00:00:00\",\"2010-09-01T00:00:00\",\"2010-10-01T00:00:00\",\"2010-11-01T00:00:00\",\"2010-12-01T00:00:00\",\"2011-01-01T00:00:00\",\"2011-02-01T00:00:00\",\"2011-03-01T00:00:00\",\"2011-04-01T00:00:00\",\"2011-05-01T00:00:00\",\"2011-06-01T00:00:00\",\"2011-07-01T00:00:00\",\"2011-08-01T00:00:00\",\"2011-09-01T00:00:00\",\"2011-10-01T00:00:00\",\"2011-11-01T00:00:00\",\"2011-12-01T00:00:00\",\"2012-01-01T00:00:00\",\"2012-02-01T00:00:00\",\"2012-03-01T00:00:00\",\"2012-04-01T00:00:00\",\"2012-05-01T00:00:00\",\"2012-06-01T00:00:00\",\"2012-07-01T00:00:00\",\"2012-08-01T00:00:00\",\"2012-09-01T00:00:00\",\"2012-10-01T00:00:00\",\"2012-11-01T00:00:00\",\"2012-12-01T00:00:00\",\"2013-01-01T00:00:00\",\"2013-02-01T00:00:00\",\"2013-03-01T00:00:00\",\"2013-04-01T00:00:00\",\"2013-05-01T00:00:00\",\"2013-06-01T00:00:00\",\"2013-07-01T00:00:00\",\"2013-08-01T00:00:00\",\"2013-09-01T00:00:00\",\"2013-10-01T00:00:00\",\"2013-11-01T00:00:00\",\"2013-12-01T00:00:00\",\"2014-01-01T00:00:00\",\"2014-02-01T00:00:00\",\"2014-03-01T00:00:00\",\"2014-04-01T00:00:00\",\"2014-05-01T00:00:00\",\"2014-06-01T00:00:00\",\"2014-07-01T00:00:00\",\"2014-08-01T00:00:00\",\"2014-09-01T00:00:00\",\"2014-10-01T00:00:00\",\"2014-11-01T00:00:00\",\"2014-12-01T00:00:00\",\"2015-01-01T00:00:00\",\"2015-02-01T00:00:00\",\"2015-03-01T00:00:00\",\"2015-04-01T00:00:00\",\"2015-05-01T00:00:00\",\"2015-06-01T00:00:00\",\"2015-07-01T00:00:00\",\"2015-08-01T00:00:00\",\"2015-09-01T00:00:00\",\"2015-10-01T00:00:00\",\"2015-11-01T00:00:00\",\"2015-12-01T00:00:00\",\"2016-01-01T00:00:00\",\"2016-02-01T00:00:00\",\"2016-03-01T00:00:00\",\"2016-04-01T00:00:00\",\"2016-05-01T00:00:00\",\"2016-06-01T00:00:00\",\"2016-07-01T00:00:00\",\"2016-08-01T00:00:00\",\"2016-09-01T00:00:00\",\"2016-10-01T00:00:00\",\"2016-11-01T00:00:00\",\"2016-12-01T00:00:00\",\"2017-01-01T00:00:00\",\"2017-02-01T00:00:00\",\"2017-03-01T00:00:00\",\"2017-04-01T00:00:00\",\"2017-05-01T00:00:00\",\"2017-06-01T00:00:00\",\"2017-07-01T00:00:00\",\"2017-08-01T00:00:00\",\"2017-09-01T00:00:00\",\"2017-10-01T00:00:00\",\"2017-11-01T00:00:00\",\"2017-12-01T00:00:00\",\"2018-01-01T00:00:00\",\"2018-02-01T00:00:00\",\"2018-03-01T00:00:00\",\"2018-04-01T00:00:00\",\"2018-05-01T00:00:00\",\"2018-06-01T00:00:00\",\"2018-07-01T00:00:00\",\"2018-08-01T00:00:00\",\"2018-09-01T00:00:00\",\"2018-10-01T00:00:00\",\"2018-11-01T00:00:00\",\"2018-12-01T00:00:00\",\"2019-01-01T00:00:00\",\"2019-02-01T00:00:00\",\"2019-03-01T00:00:00\",\"2019-04-01T00:00:00\",\"2019-05-01T00:00:00\",\"2019-06-01T00:00:00\",\"2019-07-01T00:00:00\",\"2019-08-01T00:00:00\",\"2019-09-01T00:00:00\",\"2019-10-01T00:00:00\",\"2019-11-01T00:00:00\",\"2019-12-01T00:00:00\",\"2020-01-01T00:00:00\",\"2020-02-01T00:00:00\",\"2020-03-01T00:00:00\",\"2020-04-01T00:00:00\",\"2020-05-01T00:00:00\",\"2020-06-01T00:00:00\",\"2020-07-01T00:00:00\",\"2020-08-01T00:00:00\",\"2020-09-01T00:00:00\",\"2020-10-01T00:00:00\",\"2020-11-01T00:00:00\",\"2020-12-01T00:00:00\",\"2021-01-01T00:00:00\"],\"y\":[null,null,null,null,null,null,null,null,null,286360.4,281957.7,282285.3,279352.4,276074.0,277862.6,279736.9,282019.6,285123.8,288066.8,291704.3,292798.7,293478.7,293140.4,295735.0,295447.5,288676.1,286837.5,282404.4,279415.9,277067.8,278182.4,279704.2,279955.5,280505.3,277708.4,282132.1,278684.7,276358.5,274617.6,271902.1,269644.9,267950.0,267258.4,265193.5,263390.6,260485.0,259230.1,258486.1,255887.9,250362.4,246227.2,242320.9,239523.6,236320.3,235876.7,235954.3,235225.5,234795.7,232449.0,236184.7,236540.2,233535.3,232203.1,231675.8,229321.1,225415.7,225299.2,225381.9,225642.2,223750.3,222137.9,224378.5,224061.3,221278.1,222596.4,223016.8,221823.8,220620.7,220951.6,222712.8,222512.1,222131.4,222012.9,226628.7,226699.2,228025.5,230403.4,231276.0,233034.9,231793.9,235208.7,238039.8,240048.1,239018.2,239480.8,240752.9,242195.7,241417.1,242153.6,244086.6,245443.4,244862.9,245278.5,246373.0,244274.7,243864.3,240606.2,242674.9,242218.7,238599.7,235765.9,236259.0,236007.8,236875.0,239571.3,240526.0,240282.5,238955.5,236725.4,237655.2,237464.3,230529.2,227271.1,222838.6,220297.4,216988.1,215716.9,214446.7,211270.1,208695.4,202717.8,206075.8,204914.5,202824.7,200216.9,195319.2,192680.2,190344.8,189205.0,186696.3,185435.8,180701.5,177700.7,176654.4,175256.0],\"type\":\"scatter\"}],                        {\"template\":{\"data\":{\"histogram2dcontour\":[{\"type\":\"histogram2dcontour\",\"colorbar\":{\"outlinewidth\":0,\"ticks\":\"\"},\"colorscale\":[[0.0,\"#0d0887\"],[0.1111111111111111,\"#46039f\"],[0.2222222222222222,\"#7201a8\"],[0.3333333333333333,\"#9c179e\"],[0.4444444444444444,\"#bd3786\"],[0.5555555555555556,\"#d8576b\"],[0.6666666666666666,\"#ed7953\"],[0.7777777777777778,\"#fb9f3a\"],[0.8888888888888888,\"#fdca26\"],[1.0,\"#f0f921\"]]}],\"choropleth\":[{\"type\":\"choropleth\",\"colorbar\":{\"outlinewidth\":0,\"ticks\":\"\"}}],\"histogram2d\":[{\"type\":\"histogram2d\",\"colorbar\":{\"outlinewidth\":0,\"ticks\":\"\"},\"colorscale\":[[0.0,\"#0d0887\"],[0.1111111111111111,\"#46039f\"],[0.2222222222222222,\"#7201a8\"],[0.3333333333333333,\"#9c179e\"],[0.4444444444444444,\"#bd3786\"],[0.5555555555555556,\"#d8576b\"],[0.6666666666666666,\"#ed7953\"],[0.7777777777777778,\"#fb9f3a\"],[0.8888888888888888,\"#fdca26\"],[1.0,\"#f0f921\"]]}],\"heatmap\":[{\"type\":\"heatmap\",\"colorbar\":{\"outlinewidth\":0,\"ticks\":\"\"},\"colorscale\":[[0.0,\"#0d0887\"],[0.1111111111111111,\"#46039f\"],[0.2222222222222222,\"#7201a8\"],[0.3333333333333333,\"#9c179e\"],[0.4444444444444444,\"#bd3786\"],[0.5555555555555556,\"#d8576b\"],[0.6666666666666666,\"#ed7953\"],[0.7777777777777778,\"#fb9f3a\"],[0.8888888888888888,\"#fdca26\"],[1.0,\"#f0f921\"]]}],\"heatmapgl\":[{\"type\":\"heatmapgl\",\"colorbar\":{\"outlinewidth\":0,\"ticks\":\"\"},\"colorscale\":[[0.0,\"#0d0887\"],[0.1111111111111111,\"#46039f\"],[0.2222222222222222,\"#7201a8\"],[0.3333333333333333,\"#9c179e\"],[0.4444444444444444,\"#bd3786\"],[0.5555555555555556,\"#d8576b\"],[0.6666666666666666,\"#ed7953\"],[0.7777777777777778,\"#fb9f3a\"],[0.8888888888888888,\"#fdca26\"],[1.0,\"#f0f921\"]]}],\"contourcarpet\":[{\"type\":\"contourcarpet\",\"colorbar\":{\"outlinewidth\":0,\"ticks\":\"\"}}],\"contour\":[{\"type\":\"contour\",\"colorbar\":{\"outlinewidth\":0,\"ticks\":\"\"},\"colorscale\":[[0.0,\"#0d0887\"],[0.1111111111111111,\"#46039f\"],[0.2222222222222222,\"#7201a8\"],[0.3333333333333333,\"#9c179e\"],[0.4444444444444444,\"#bd3786\"],[0.5555555555555556,\"#d8576b\"],[0.6666666666666666,\"#ed7953\"],[0.7777777777777778,\"#fb9f3a\"],[0.8888888888888888,\"#fdca26\"],[1.0,\"#f0f921\"]]}],\"surface\":[{\"type\":\"surface\",\"colorbar\":{\"outlinewidth\":0,\"ticks\":\"\"},\"colorscale\":[[0.0,\"#0d0887\"],[0.1111111111111111,\"#46039f\"],[0.2222222222222222,\"#7201a8\"],[0.3333333333333333,\"#9c179e\"],[0.4444444444444444,\"#bd3786\"],[0.5555555555555556,\"#d8576b\"],[0.6666666666666666,\"#ed7953\"],[0.7777777777777778,\"#fb9f3a\"],[0.8888888888888888,\"#fdca26\"],[1.0,\"#f0f921\"]]}],\"mesh3d\":[{\"type\":\"mesh3d\",\"colorbar\":{\"outlinewidth\":0,\"ticks\":\"\"}}],\"scatter\":[{\"fillpattern\":{\"fillmode\":\"overlay\",\"size\":10,\"solidity\":0.2},\"type\":\"scatter\"}],\"parcoords\":[{\"type\":\"parcoords\",\"line\":{\"colorbar\":{\"outlinewidth\":0,\"ticks\":\"\"}}}],\"scatterpolargl\":[{\"type\":\"scatterpolargl\",\"marker\":{\"colorbar\":{\"outlinewidth\":0,\"ticks\":\"\"}}}],\"bar\":[{\"error_x\":{\"color\":\"#2a3f5f\"},\"error_y\":{\"color\":\"#2a3f5f\"},\"marker\":{\"line\":{\"color\":\"#E5ECF6\",\"width\":0.5},\"pattern\":{\"fillmode\":\"overlay\",\"size\":10,\"solidity\":0.2}},\"type\":\"bar\"}],\"scattergeo\":[{\"type\":\"scattergeo\",\"marker\":{\"colorbar\":{\"outlinewidth\":0,\"ticks\":\"\"}}}],\"scatterpolar\":[{\"type\":\"scatterpolar\",\"marker\":{\"colorbar\":{\"outlinewidth\":0,\"ticks\":\"\"}}}],\"histogram\":[{\"marker\":{\"pattern\":{\"fillmode\":\"overlay\",\"size\":10,\"solidity\":0.2}},\"type\":\"histogram\"}],\"scattergl\":[{\"type\":\"scattergl\",\"marker\":{\"colorbar\":{\"outlinewidth\":0,\"ticks\":\"\"}}}],\"scatter3d\":[{\"type\":\"scatter3d\",\"line\":{\"colorbar\":{\"outlinewidth\":0,\"ticks\":\"\"}},\"marker\":{\"colorbar\":{\"outlinewidth\":0,\"ticks\":\"\"}}}],\"scattermapbox\":[{\"type\":\"scattermapbox\",\"marker\":{\"colorbar\":{\"outlinewidth\":0,\"ticks\":\"\"}}}],\"scatterternary\":[{\"type\":\"scatterternary\",\"marker\":{\"colorbar\":{\"outlinewidth\":0,\"ticks\":\"\"}}}],\"scattercarpet\":[{\"type\":\"scattercarpet\",\"marker\":{\"colorbar\":{\"outlinewidth\":0,\"ticks\":\"\"}}}],\"carpet\":[{\"aaxis\":{\"endlinecolor\":\"#2a3f5f\",\"gridcolor\":\"white\",\"linecolor\":\"white\",\"minorgridcolor\":\"white\",\"startlinecolor\":\"#2a3f5f\"},\"baxis\":{\"endlinecolor\":\"#2a3f5f\",\"gridcolor\":\"white\",\"linecolor\":\"white\",\"minorgridcolor\":\"white\",\"startlinecolor\":\"#2a3f5f\"},\"type\":\"carpet\"}],\"table\":[{\"cells\":{\"fill\":{\"color\":\"#EBF0F8\"},\"line\":{\"color\":\"white\"}},\"header\":{\"fill\":{\"color\":\"#C8D4E3\"},\"line\":{\"color\":\"white\"}},\"type\":\"table\"}],\"barpolar\":[{\"marker\":{\"line\":{\"color\":\"#E5ECF6\",\"width\":0.5},\"pattern\":{\"fillmode\":\"overlay\",\"size\":10,\"solidity\":0.2}},\"type\":\"barpolar\"}],\"pie\":[{\"automargin\":true,\"type\":\"pie\"}]},\"layout\":{\"autotypenumbers\":\"strict\",\"colorway\":[\"#636efa\",\"#EF553B\",\"#00cc96\",\"#ab63fa\",\"#FFA15A\",\"#19d3f3\",\"#FF6692\",\"#B6E880\",\"#FF97FF\",\"#FECB52\"],\"font\":{\"color\":\"#2a3f5f\"},\"hovermode\":\"closest\",\"hoverlabel\":{\"align\":\"left\"},\"paper_bgcolor\":\"white\",\"plot_bgcolor\":\"#E5ECF6\",\"polar\":{\"bgcolor\":\"#E5ECF6\",\"angularaxis\":{\"gridcolor\":\"white\",\"linecolor\":\"white\",\"ticks\":\"\"},\"radialaxis\":{\"gridcolor\":\"white\",\"linecolor\":\"white\",\"ticks\":\"\"}},\"ternary\":{\"bgcolor\":\"#E5ECF6\",\"aaxis\":{\"gridcolor\":\"white\",\"linecolor\":\"white\",\"ticks\":\"\"},\"baxis\":{\"gridcolor\":\"white\",\"linecolor\":\"white\",\"ticks\":\"\"},\"caxis\":{\"gridcolor\":\"white\",\"linecolor\":\"white\",\"ticks\":\"\"}},\"coloraxis\":{\"colorbar\":{\"outlinewidth\":0,\"ticks\":\"\"}},\"colorscale\":{\"sequential\":[[0.0,\"#0d0887\"],[0.1111111111111111,\"#46039f\"],[0.2222222222222222,\"#7201a8\"],[0.3333333333333333,\"#9c179e\"],[0.4444444444444444,\"#bd3786\"],[0.5555555555555556,\"#d8576b\"],[0.6666666666666666,\"#ed7953\"],[0.7777777777777778,\"#fb9f3a\"],[0.8888888888888888,\"#fdca26\"],[1.0,\"#f0f921\"]],\"sequentialminus\":[[0.0,\"#0d0887\"],[0.1111111111111111,\"#46039f\"],[0.2222222222222222,\"#7201a8\"],[0.3333333333333333,\"#9c179e\"],[0.4444444444444444,\"#bd3786\"],[0.5555555555555556,\"#d8576b\"],[0.6666666666666666,\"#ed7953\"],[0.7777777777777778,\"#fb9f3a\"],[0.8888888888888888,\"#fdca26\"],[1.0,\"#f0f921\"]],\"diverging\":[[0,\"#8e0152\"],[0.1,\"#c51b7d\"],[0.2,\"#de77ae\"],[0.3,\"#f1b6da\"],[0.4,\"#fde0ef\"],[0.5,\"#f7f7f7\"],[0.6,\"#e6f5d0\"],[0.7,\"#b8e186\"],[0.8,\"#7fbc41\"],[0.9,\"#4d9221\"],[1,\"#276419\"]]},\"xaxis\":{\"gridcolor\":\"white\",\"linecolor\":\"white\",\"ticks\":\"\",\"title\":{\"standoff\":15},\"zerolinecolor\":\"white\",\"automargin\":true,\"zerolinewidth\":2},\"yaxis\":{\"gridcolor\":\"white\",\"linecolor\":\"white\",\"ticks\":\"\",\"title\":{\"standoff\":15},\"zerolinecolor\":\"white\",\"automargin\":true,\"zerolinewidth\":2},\"scene\":{\"xaxis\":{\"backgroundcolor\":\"#E5ECF6\",\"gridcolor\":\"white\",\"linecolor\":\"white\",\"showbackground\":true,\"ticks\":\"\",\"zerolinecolor\":\"white\",\"gridwidth\":2},\"yaxis\":{\"backgroundcolor\":\"#E5ECF6\",\"gridcolor\":\"white\",\"linecolor\":\"white\",\"showbackground\":true,\"ticks\":\"\",\"zerolinecolor\":\"white\",\"gridwidth\":2},\"zaxis\":{\"backgroundcolor\":\"#E5ECF6\",\"gridcolor\":\"white\",\"linecolor\":\"white\",\"showbackground\":true,\"ticks\":\"\",\"zerolinecolor\":\"white\",\"gridwidth\":2}},\"shapedefaults\":{\"line\":{\"color\":\"#2a3f5f\"}},\"annotationdefaults\":{\"arrowcolor\":\"#2a3f5f\",\"arrowhead\":0,\"arrowwidth\":1},\"geo\":{\"bgcolor\":\"white\",\"landcolor\":\"#E5ECF6\",\"subunitcolor\":\"white\",\"showland\":true,\"showlakes\":true,\"lakecolor\":\"white\"},\"title\":{\"x\":0.05},\"mapbox\":{\"style\":\"light\"}}},\"width\":800,\"height\":500},                        {\"responsive\": true}                    ).then(function(){\n",
       "                            \n",
       "var gd = document.getElementById('e7e7903b-a704-4602-b714-0a96873a051f');\n",
       "var x = new MutationObserver(function (mutations, observer) {{\n",
       "        var display = window.getComputedStyle(gd).display;\n",
       "        if (!display || display === 'none') {{\n",
       "            console.log([gd, 'removed!']);\n",
       "            Plotly.purge(gd);\n",
       "            observer.disconnect();\n",
       "        }}\n",
       "}});\n",
       "\n",
       "// Listen for the removal of the full notebook cells\n",
       "var notebookContainer = gd.closest('#notebook-container');\n",
       "if (notebookContainer) {{\n",
       "    x.observe(notebookContainer, {childList: true});\n",
       "}}\n",
       "\n",
       "// Listen for the clearing of the current output cell\n",
       "var outputEl = gd.closest('.output');\n",
       "if (outputEl) {{\n",
       "    x.observe(outputEl, {childList: true});\n",
       "}}\n",
       "\n",
       "                        })                };                });            </script>        </div>"
      ]
     },
     "metadata": {},
     "output_type": "display_data"
    }
   ],
   "source": [
    "fig = go.Figure()\n",
    "fig.add_trace(go.Scatter(x=df['date'], y=df['crude_oil_imports'], mode='lines', name='Raw Data',\n",
    "                        line=dict(color='#bec2ed')))\n",
    "fig.add_trace(go.Scatter(x=df['date'], y=df['rolling_10'], mode='lines', name='Rolling 10',\n",
    "                        line=dict(color='#d99543', dash='dash')))\n",
    "fig.update_layout(width=800, height=500)"
   ]
  },
  {
   "cell_type": "markdown",
   "id": "1b5aef54",
   "metadata": {},
   "source": [
    "## Use Statsmodels to Show Seasonality"
   ]
  },
  {
   "cell_type": "code",
   "execution_count": 203,
   "id": "3e128551",
   "metadata": {},
   "outputs": [],
   "source": [
    "from statsmodels.tsa.seasonal import seasonal_decompose"
   ]
  },
  {
   "cell_type": "code",
   "execution_count": 204,
   "id": "c18f8bb3",
   "metadata": {},
   "outputs": [
    {
     "data": {
      "text/html": [
       "<div>\n",
       "<style scoped>\n",
       "    .dataframe tbody tr th:only-of-type {\n",
       "        vertical-align: middle;\n",
       "    }\n",
       "\n",
       "    .dataframe tbody tr th {\n",
       "        vertical-align: top;\n",
       "    }\n",
       "\n",
       "    .dataframe thead th {\n",
       "        text-align: right;\n",
       "    }\n",
       "</style>\n",
       "<table border=\"1\" class=\"dataframe\">\n",
       "  <thead>\n",
       "    <tr style=\"text-align: right;\">\n",
       "      <th></th>\n",
       "      <th>crude_oil_imports</th>\n",
       "    </tr>\n",
       "    <tr>\n",
       "      <th>date</th>\n",
       "      <th></th>\n",
       "    </tr>\n",
       "  </thead>\n",
       "  <tbody>\n",
       "    <tr>\n",
       "      <th>2009-01-01</th>\n",
       "      <td>317275</td>\n",
       "    </tr>\n",
       "    <tr>\n",
       "      <th>2009-02-01</th>\n",
       "      <td>262339</td>\n",
       "    </tr>\n",
       "    <tr>\n",
       "      <th>2009-03-01</th>\n",
       "      <td>303897</td>\n",
       "    </tr>\n",
       "    <tr>\n",
       "      <th>2009-04-01</th>\n",
       "      <td>285934</td>\n",
       "    </tr>\n",
       "    <tr>\n",
       "      <th>2009-05-01</th>\n",
       "      <td>281147</td>\n",
       "    </tr>\n",
       "  </tbody>\n",
       "</table>\n",
       "</div>"
      ],
      "text/plain": [
       "            crude_oil_imports\n",
       "date                         \n",
       "2009-01-01             317275\n",
       "2009-02-01             262339\n",
       "2009-03-01             303897\n",
       "2009-04-01             285934\n",
       "2009-05-01             281147"
      ]
     },
     "execution_count": 204,
     "metadata": {},
     "output_type": "execute_result"
    }
   ],
   "source": [
    "seasonal_df = df[['date','crude_oil_imports']].copy(deep=True)\n",
    "seasonal_df = seasonal_df.set_index('date')\n",
    "seasonal_df.head()"
   ]
  },
  {
   "cell_type": "code",
   "execution_count": 205,
   "id": "a91706c5",
   "metadata": {},
   "outputs": [
    {
     "data": {
      "image/png": "[encoded data removed]",
      "text/plain": [
       "<Figure size 1152x648 with 4 Axes>"
      ]
     },
     "metadata": {
      "needs_background": "light"
     },
     "output_type": "display_data"
    }
   ],
   "source": [
    "result = seasonal_decompose(seasonal_df, model='multiplicative', period=12)\n",
    "fig = result.plot()\n",
    "fig.set_size_inches((16, 9))\n",
    "fig.tight_layout()\n",
    "plt.show()\n"
   ]
  },
  {
   "cell_type": "markdown",
   "id": "eaac0088",
   "metadata": {},
   "source": [
    "## Analysis of the Stats Model Seasonality\n",
    "The trend line is very similar to the rolling window line created before and shows that the number of imports is declining in general though it had an uptick from 2016-2018.\n",
    "\n",
    "The seasonal trend shows that within the year there is a consistent drop of imports at the beginning of the year and in the middle of the year. The peaks of seasonal imports are around the beginning of Spring and the beginning of Fall.\n",
    "\n",
    "The residuals shows there is a significant amount of noise in the data that does not follow the seasonality and trend. As well, the data in 2020 has more variance in the noise."
   ]
  },
  {
   "cell_type": "code",
   "execution_count": 206,
   "id": "c5efe601",
   "metadata": {},
   "outputs": [],
   "source": [
    "from fbprophet import Prophet"
   ]
  },
  {
   "cell_type": "code",
   "execution_count": 207,
   "id": "4ccb0134",
   "metadata": {},
   "outputs": [],
   "source": [
    "prophet_df = df[['date', 'crude_oil_imports']]\n",
    "prophet_df.columns = ['ds', 'y']"
   ]
  },
  {
   "cell_type": "code",
   "execution_count": 208,
   "id": "7b145522",
   "metadata": {},
   "outputs": [
    {
     "name": "stderr",
     "output_type": "stream",
     "text": [
      "INFO:fbprophet:Disabling weekly seasonality. Run prophet with weekly_seasonality=True to override this.\n",
      "INFO:fbprophet:Disabling daily seasonality. Run prophet with daily_seasonality=True to override this.\n"
     ]
    },
    {
     "data": {
      "text/plain": [
       "<fbprophet.forecaster.Prophet at 0x1e2466c84c8>"
      ]
     },
     "execution_count": 208,
     "metadata": {},
     "output_type": "execute_result"
    }
   ],
   "source": [
    "model = Prophet()\n",
    "model.fit(prophet_df)"
   ]
  },
  {
   "cell_type": "code",
   "execution_count": 209,
   "id": "fdf44610",
   "metadata": {},
   "outputs": [
    {
     "data": {
      "text/html": [
       "<div>\n",
       "<style scoped>\n",
       "    .dataframe tbody tr th:only-of-type {\n",
       "        vertical-align: middle;\n",
       "    }\n",
       "\n",
       "    .dataframe tbody tr th {\n",
       "        vertical-align: top;\n",
       "    }\n",
       "\n",
       "    .dataframe thead th {\n",
       "        text-align: right;\n",
       "    }\n",
       "</style>\n",
       "<table border=\"1\" class=\"dataframe\">\n",
       "  <thead>\n",
       "    <tr style=\"text-align: right;\">\n",
       "      <th></th>\n",
       "      <th>ds</th>\n",
       "    </tr>\n",
       "  </thead>\n",
       "  <tbody>\n",
       "    <tr>\n",
       "      <th>152</th>\n",
       "      <td>2021-09-01</td>\n",
       "    </tr>\n",
       "    <tr>\n",
       "      <th>153</th>\n",
       "      <td>2021-10-01</td>\n",
       "    </tr>\n",
       "    <tr>\n",
       "      <th>154</th>\n",
       "      <td>2021-11-01</td>\n",
       "    </tr>\n",
       "    <tr>\n",
       "      <th>155</th>\n",
       "      <td>2021-12-01</td>\n",
       "    </tr>\n",
       "    <tr>\n",
       "      <th>156</th>\n",
       "      <td>2022-01-01</td>\n",
       "    </tr>\n",
       "  </tbody>\n",
       "</table>\n",
       "</div>"
      ],
      "text/plain": [
       "            ds\n",
       "152 2021-09-01\n",
       "153 2021-10-01\n",
       "154 2021-11-01\n",
       "155 2021-12-01\n",
       "156 2022-01-01"
      ]
     },
     "execution_count": 209,
     "metadata": {},
     "output_type": "execute_result"
    }
   ],
   "source": [
    "# make a dataframe for future dates for the next 12 months, set frequency to MS for months\n",
    "future_df = model.make_future_dataframe(periods=12, freq='MS')\n",
    "\n",
    "# confirm there is an extra year of dates\n",
    "future_df.tail()"
   ]
  },
  {
   "cell_type": "code",
   "execution_count": 210,
   "id": "6a8d4142",
   "metadata": {},
   "outputs": [
    {
     "data": {
      "text/html": [
       "<div>\n",
       "<style scoped>\n",
       "    .dataframe tbody tr th:only-of-type {\n",
       "        vertical-align: middle;\n",
       "    }\n",
       "\n",
       "    .dataframe tbody tr th {\n",
       "        vertical-align: top;\n",
       "    }\n",
       "\n",
       "    .dataframe thead th {\n",
       "        text-align: right;\n",
       "    }\n",
       "</style>\n",
       "<table border=\"1\" class=\"dataframe\">\n",
       "  <thead>\n",
       "    <tr style=\"text-align: right;\">\n",
       "      <th></th>\n",
       "      <th>ds</th>\n",
       "      <th>trend</th>\n",
       "      <th>yhat_lower</th>\n",
       "      <th>yhat_upper</th>\n",
       "      <th>trend_lower</th>\n",
       "      <th>trend_upper</th>\n",
       "      <th>additive_terms</th>\n",
       "      <th>additive_terms_lower</th>\n",
       "      <th>additive_terms_upper</th>\n",
       "      <th>yearly</th>\n",
       "      <th>yearly_lower</th>\n",
       "      <th>yearly_upper</th>\n",
       "      <th>multiplicative_terms</th>\n",
       "      <th>multiplicative_terms_lower</th>\n",
       "      <th>multiplicative_terms_upper</th>\n",
       "      <th>yhat</th>\n",
       "    </tr>\n",
       "  </thead>\n",
       "  <tbody>\n",
       "    <tr>\n",
       "      <th>152</th>\n",
       "      <td>2021-09-01</td>\n",
       "      <td>151743.060806</td>\n",
       "      <td>133698.995102</td>\n",
       "      <td>159506.211018</td>\n",
       "      <td>150106.617193</td>\n",
       "      <td>153200.839785</td>\n",
       "      <td>-4889.801514</td>\n",
       "      <td>-4889.801514</td>\n",
       "      <td>-4889.801514</td>\n",
       "      <td>-4889.801514</td>\n",
       "      <td>-4889.801514</td>\n",
       "      <td>-4889.801514</td>\n",
       "      <td>0.0</td>\n",
       "      <td>0.0</td>\n",
       "      <td>0.0</td>\n",
       "      <td>146853.259292</td>\n",
       "    </tr>\n",
       "    <tr>\n",
       "      <th>153</th>\n",
       "      <td>2021-10-01</td>\n",
       "      <td>149606.934996</td>\n",
       "      <td>130627.864449</td>\n",
       "      <td>156873.430591</td>\n",
       "      <td>147639.670835</td>\n",
       "      <td>151531.912812</td>\n",
       "      <td>-5622.374879</td>\n",
       "      <td>-5622.374879</td>\n",
       "      <td>-5622.374879</td>\n",
       "      <td>-5622.374879</td>\n",
       "      <td>-5622.374879</td>\n",
       "      <td>-5622.374879</td>\n",
       "      <td>0.0</td>\n",
       "      <td>0.0</td>\n",
       "      <td>0.0</td>\n",
       "      <td>143984.560117</td>\n",
       "    </tr>\n",
       "    <tr>\n",
       "      <th>154</th>\n",
       "      <td>2021-11-01</td>\n",
       "      <td>147399.604993</td>\n",
       "      <td>126953.200257</td>\n",
       "      <td>152931.098714</td>\n",
       "      <td>145117.581385</td>\n",
       "      <td>149679.975736</td>\n",
       "      <td>-7241.159300</td>\n",
       "      <td>-7241.159300</td>\n",
       "      <td>-7241.159300</td>\n",
       "      <td>-7241.159300</td>\n",
       "      <td>-7241.159300</td>\n",
       "      <td>-7241.159300</td>\n",
       "      <td>0.0</td>\n",
       "      <td>0.0</td>\n",
       "      <td>0.0</td>\n",
       "      <td>140158.445693</td>\n",
       "    </tr>\n",
       "    <tr>\n",
       "      <th>155</th>\n",
       "      <td>2021-12-01</td>\n",
       "      <td>145263.479183</td>\n",
       "      <td>131477.684973</td>\n",
       "      <td>156598.364239</td>\n",
       "      <td>142634.365073</td>\n",
       "      <td>147961.690575</td>\n",
       "      <td>-1240.068583</td>\n",
       "      <td>-1240.068583</td>\n",
       "      <td>-1240.068583</td>\n",
       "      <td>-1240.068583</td>\n",
       "      <td>-1240.068583</td>\n",
       "      <td>-1240.068583</td>\n",
       "      <td>0.0</td>\n",
       "      <td>0.0</td>\n",
       "      <td>0.0</td>\n",
       "      <td>144023.410600</td>\n",
       "    </tr>\n",
       "    <tr>\n",
       "      <th>156</th>\n",
       "      <td>2022-01-01</td>\n",
       "      <td>143056.149179</td>\n",
       "      <td>136738.877690</td>\n",
       "      <td>163307.068658</td>\n",
       "      <td>139932.562997</td>\n",
       "      <td>146187.620745</td>\n",
       "      <td>7131.112693</td>\n",
       "      <td>7131.112693</td>\n",
       "      <td>7131.112693</td>\n",
       "      <td>7131.112693</td>\n",
       "      <td>7131.112693</td>\n",
       "      <td>7131.112693</td>\n",
       "      <td>0.0</td>\n",
       "      <td>0.0</td>\n",
       "      <td>0.0</td>\n",
       "      <td>150187.261872</td>\n",
       "    </tr>\n",
       "  </tbody>\n",
       "</table>\n",
       "</div>"
      ],
      "text/plain": [
       "            ds          trend     yhat_lower     yhat_upper    trend_lower  \\\n",
       "152 2021-09-01  151743.060806  133698.995102  159506.211018  150106.617193   \n",
       "153 2021-10-01  149606.934996  130627.864449  156873.430591  147639.670835   \n",
       "154 2021-11-01  147399.604993  126953.200257  152931.098714  145117.581385   \n",
       "155 2021-12-01  145263.479183  131477.684973  156598.364239  142634.365073   \n",
       "156 2022-01-01  143056.149179  136738.877690  163307.068658  139932.562997   \n",
       "\n",
       "       trend_upper  additive_terms  additive_terms_lower  \\\n",
       "152  153200.839785    -4889.801514          -4889.801514   \n",
       "153  151531.912812    -5622.374879          -5622.374879   \n",
       "154  149679.975736    -7241.159300          -7241.159300   \n",
       "155  147961.690575    -1240.068583          -1240.068583   \n",
       "156  146187.620745     7131.112693           7131.112693   \n",
       "\n",
       "     additive_terms_upper       yearly  yearly_lower  yearly_upper  \\\n",
       "152          -4889.801514 -4889.801514  -4889.801514  -4889.801514   \n",
       "153          -5622.374879 -5622.374879  -5622.374879  -5622.374879   \n",
       "154          -7241.159300 -7241.159300  -7241.159300  -7241.159300   \n",
       "155          -1240.068583 -1240.068583  -1240.068583  -1240.068583   \n",
       "156           7131.112693  7131.112693   7131.112693   7131.112693   \n",
       "\n",
       "     multiplicative_terms  multiplicative_terms_lower  \\\n",
       "152                   0.0                         0.0   \n",
       "153                   0.0                         0.0   \n",
       "154                   0.0                         0.0   \n",
       "155                   0.0                         0.0   \n",
       "156                   0.0                         0.0   \n",
       "\n",
       "     multiplicative_terms_upper           yhat  \n",
       "152                         0.0  146853.259292  \n",
       "153                         0.0  143984.560117  \n",
       "154                         0.0  140158.445693  \n",
       "155                         0.0  144023.410600  \n",
       "156                         0.0  150187.261872  "
      ]
     },
     "execution_count": 210,
     "metadata": {},
     "output_type": "execute_result"
    }
   ],
   "source": [
    "# make predictions\n",
    "forecast_df = model.predict(future_df)\n",
    "forecast_df.tail()"
   ]
  },
  {
   "cell_type": "code",
   "execution_count": 211,
   "id": "4fb24834",
   "metadata": {},
   "outputs": [
    {
     "data": {
      "image/png": "[encoded data removed]",
      "text/plain": [
       "<Figure size 720x432 with 1 Axes>"
      ]
     },
     "metadata": {},
     "output_type": "display_data"
    }
   ],
   "source": [
    "# plot the results of the past data and future forecast\n",
    "fig1 = model.plot(forecast_df)"
   ]
  },
  {
   "cell_type": "code",
   "execution_count": 212,
   "id": "3c37ee82",
   "metadata": {},
   "outputs": [
    {
     "data": {
      "image/png": "[encoded data removed]",
      "text/plain": [
       "<Figure size 648x432 with 2 Axes>"
      ]
     },
     "metadata": {},
     "output_type": "display_data"
    }
   ],
   "source": [
    "# breakdown the various components\n",
    "fig2 = model.plot_components(forecast_df)"
   ]
  },
  {
   "cell_type": "markdown",
   "id": "b6a711fe",
   "metadata": {},
   "source": [
    "## Analysis of the FB Prophet on the Raw Data\n",
    "\n",
    "The general trend is similar to what was seen from the statsmodel analysis. The seasonal trend is not very similar to the statsmodel seasonal trend and perhaps gives a better understanding of the actual seasonal trend. The seasonal trend using statsmodel created a seasonal trend that occurred twice a year.\n",
    "\n",
    "In the FB Prophet model, there seems to be **two big spikes** in crude oil imports, one in **February** and one in **November**. As well, the **two major dips** are in **February** and **December**.\n"
   ]
  },
  {
   "cell_type": "markdown",
   "id": "590a1871",
   "metadata": {},
   "source": [
    "## Use LSTM For Forecasting\n",
    "\n",
    "### Preprocess the Data"
   ]
  },
  {
   "cell_type": "code",
   "execution_count": 216,
   "id": "4348e826",
   "metadata": {},
   "outputs": [],
   "source": [
    "# drop the nan values created from the rolling window\n",
    "df = df.dropna()"
   ]
  },
  {
   "cell_type": "code",
   "execution_count": 217,
   "id": "7ee160f3",
   "metadata": {},
   "outputs": [],
   "source": [
    "ds = df[['rolling_10']].values"
   ]
  },
  {
   "cell_type": "code",
   "execution_count": 218,
   "id": "d6494cba",
   "metadata": {},
   "outputs": [],
   "source": [
    "from sklearn.preprocessing import MinMaxScaler\n",
    "\n",
    "scaler = MinMaxScaler(feature_range=(0, 1))"
   ]
  },
  {
   "cell_type": "code",
   "execution_count": 219,
   "id": "e78bd127",
   "metadata": {},
   "outputs": [],
   "source": [
    "ds = scaler.fit_transform(ds)"
   ]
  },
  {
   "cell_type": "code",
   "execution_count": 220,
   "id": "77936ef5",
   "metadata": {},
   "outputs": [],
   "source": [
    "# split the training and testing to 75% and 25%\n",
    "train_size = int(len(ds) * 0.75)\n",
    "test_size = len(ds) - train_size\n",
    "train = ds[0 : train_size, :]\n",
    "test = ds[train_size : len(ds), :]"
   ]
  },
  {
   "cell_type": "code",
   "execution_count": 221,
   "id": "5b4a5b95",
   "metadata": {},
   "outputs": [],
   "source": [
    "def dataset_generator(df, lookback=0):\n",
    "    ''' \n",
    "        Takes in a Series and a lookback value\n",
    "        Returns a 2-D numpy array with each entry holding\n",
    "        lookback number of values\n",
    "    '''\n",
    "    \n",
    "    df_x = []\n",
    "    df_y = []\n",
    "    \n",
    "    for i in range(len(df) - lookback - 1):\n",
    "        tmp = df[i:(i+lookback), 0]\n",
    "        df_x.append(tmp)\n",
    "        df_y.append(df[i + lookback, 0])\n",
    "        \n",
    "    return np.array(df_x), np.array(df_y)"
   ]
  },
  {
   "cell_type": "code",
   "execution_count": 222,
   "id": "70ee4456",
   "metadata": {},
   "outputs": [],
   "source": [
    "# create a lookback of 12 months\n",
    "lookback = 12\n",
    "X_train, y_train = dataset_generator(train, lookback)\n",
    "X_test, y_test = dataset_generator(test, lookback)"
   ]
  },
  {
   "cell_type": "code",
   "execution_count": 224,
   "id": "594031bc",
   "metadata": {},
   "outputs": [
    {
     "data": {
      "text/plain": [
       "array([[0.92218893, 0.88564563, 0.88836478, 0.86402112, 0.83680973,\n",
       "        0.85165548, 0.86721254, 0.88615941, 0.9119249 , 0.93635239,\n",
       "        0.96654438, 0.97562812],\n",
       "       [0.88564563, 0.88836478, 0.86402112, 0.83680973, 0.85165548,\n",
       "        0.86721254, 0.88615941, 0.9119249 , 0.93635239, 0.96654438,\n",
       "        0.97562812, 0.98127225]])"
      ]
     },
     "execution_count": 224,
     "metadata": {},
     "output_type": "execute_result"
    }
   ],
   "source": [
    "# chekc that the numpy array is a series of 12 values per each position\n",
    "X_train[:2]"
   ]
  },
  {
   "cell_type": "code",
   "execution_count": 226,
   "id": "2b56bd35",
   "metadata": {},
   "outputs": [
    {
     "data": {
      "text/plain": [
       "((89, 12), (89,))"
      ]
     },
     "execution_count": 226,
     "metadata": {},
     "output_type": "execute_result"
    }
   ],
   "source": [
    "X_train.shape, y_train.shape"
   ]
  },
  {
   "cell_type": "code",
   "execution_count": 228,
   "id": "5142a249",
   "metadata": {},
   "outputs": [],
   "source": [
    "X_train = np.reshape(X_train, (X_train.shape[0], 1, X_train.shape[1]))\n",
    "X_test = np.reshape(X_test, (X_test.shape[0], 1, X_test.shape[1]))"
   ]
  },
  {
   "cell_type": "code",
   "execution_count": 229,
   "id": "a52536f5",
   "metadata": {},
   "outputs": [
    {
     "data": {
      "text/plain": [
       "((89, 1, 12), (21, 1, 12))"
      ]
     },
     "execution_count": 229,
     "metadata": {},
     "output_type": "execute_result"
    }
   ],
   "source": [
    "X_train.shape, X_test.shape"
   ]
  },
  {
   "cell_type": "code",
   "execution_count": 230,
   "id": "a84bf39e",
   "metadata": {},
   "outputs": [
    {
     "data": {
      "text/plain": [
       "array([[[0.92218893, 0.88564563, 0.88836478, 0.86402112, 0.83680973,\n",
       "         0.85165548, 0.86721254, 0.88615941, 0.9119249 , 0.93635239,\n",
       "         0.96654438, 0.97562812]],\n",
       "\n",
       "       [[0.88564563, 0.88836478, 0.86402112, 0.83680973, 0.85165548,\n",
       "         0.86721254, 0.88615941, 0.9119249 , 0.93635239, 0.96654438,\n",
       "         0.97562812, 0.98127225]]])"
      ]
     },
     "execution_count": 230,
     "metadata": {},
     "output_type": "execute_result"
    }
   ],
   "source": [
    "X_train[:2]"
   ]
  },
  {
   "cell_type": "markdown",
   "id": "4de23499",
   "metadata": {},
   "source": [
    "## Build the LSTM Model"
   ]
  },
  {
   "cell_type": "code",
   "execution_count": 231,
   "id": "bf69bf37",
   "metadata": {},
   "outputs": [],
   "source": [
    "# build the LSTM Model\n",
    "model = Sequential()\n",
    "model.add(LSTM(2, input_shape = (1, lookback)))\n",
    "model.add(Dense(1))"
   ]
  },
  {
   "cell_type": "code",
   "execution_count": 232,
   "id": "3919b7ea",
   "metadata": {},
   "outputs": [],
   "source": [
    "opt = tf.keras.optimizers.Adam(learning_rate=0.001)\n",
    "model.compile(loss='mean_squared_error', optimizer=opt)"
   ]
  },
  {
   "cell_type": "code",
   "execution_count": 233,
   "id": "034c3f2d",
   "metadata": {},
   "outputs": [
    {
     "name": "stdout",
     "output_type": "stream",
     "text": [
      "Model: \"sequential\"\n",
      "_________________________________________________________________\n",
      " Layer (type)                Output Shape              Param #   \n",
      "=================================================================\n",
      " lstm (LSTM)                 (None, 2)                 120       \n",
      "                                                                 \n",
      " dense (Dense)               (None, 1)                 3         \n",
      "                                                                 \n",
      "=================================================================\n",
      "Total params: 123\n",
      "Trainable params: 123\n",
      "Non-trainable params: 0\n",
      "_________________________________________________________________\n"
     ]
    }
   ],
   "source": [
    "model.summary()"
   ]
  },
  {
   "cell_type": "code",
   "execution_count": 234,
   "id": "3e3d3e53",
   "metadata": {},
   "outputs": [
    {
     "name": "stdout",
     "output_type": "stream",
     "text": [
      "Epoch 1/10\n",
      "89/89 - 2s - loss: 0.0036 - 2s/epoch - 23ms/step\n",
      "Epoch 2/10\n",
      "89/89 - 0s - loss: 0.0025 - 146ms/epoch - 2ms/step\n",
      "Epoch 3/10\n",
      "89/89 - 0s - loss: 0.0022 - 144ms/epoch - 2ms/step\n",
      "Epoch 4/10\n",
      "89/89 - 0s - loss: 0.0020 - 144ms/epoch - 2ms/step\n",
      "Epoch 5/10\n",
      "89/89 - 0s - loss: 0.0019 - 146ms/epoch - 2ms/step\n",
      "Epoch 6/10\n",
      "89/89 - 0s - loss: 0.0019 - 144ms/epoch - 2ms/step\n",
      "Epoch 7/10\n",
      "89/89 - 0s - loss: 0.0017 - 143ms/epoch - 2ms/step\n",
      "Epoch 8/10\n",
      "89/89 - 0s - loss: 0.0016 - 145ms/epoch - 2ms/step\n",
      "Epoch 9/10\n",
      "89/89 - 0s - loss: 0.0017 - 134ms/epoch - 2ms/step\n",
      "Epoch 10/10\n",
      "89/89 - 0s - loss: 0.0015 - 145ms/epoch - 2ms/step\n"
     ]
    }
   ],
   "source": [
    "# run the model\n",
    "history = model.fit(X_train, y_train, epochs=10, batch_size=1, verbose=2)\n"
   ]
  },
  {
   "cell_type": "markdown",
   "id": "0271b936",
   "metadata": {},
   "source": [
    "## Plot the Performance of the Model"
   ]
  },
  {
   "cell_type": "code",
   "execution_count": 235,
   "id": "b9454e99",
   "metadata": {},
   "outputs": [
    {
     "data": {
      "text/plain": [
       "Text(0, 0.5, 'Mean Squared Error')"
      ]
     },
     "execution_count": 235,
     "metadata": {},
     "output_type": "execute_result"
    },
    {
     "data": {
      "image/png": "[encoded data removed]",
      "text/plain": [
       "<Figure size 720x432 with 1 Axes>"
      ]
     },
     "metadata": {
      "needs_background": "light"
     },
     "output_type": "display_data"
    }
   ],
   "source": [
    "plt.figure(figsize=(10,6))\n",
    "plt.plot(history.history['loss'], linewidth=2)\n",
    "plt.title('Model Loss', fontsize=15)\n",
    "plt.xlabel('# of Epochs', fontsize=15)\n",
    "plt.ylabel('Mean Squared Error', fontsize=15)"
   ]
  },
  {
   "cell_type": "markdown",
   "id": "973f6322",
   "metadata": {},
   "source": [
    "## Forecast Using LSTM"
   ]
  },
  {
   "cell_type": "code",
   "execution_count": 236,
   "id": "60a318e0",
   "metadata": {},
   "outputs": [
    {
     "name": "stdout",
     "output_type": "stream",
     "text": [
      "3/3 [==============================] - 1s 3ms/step\n",
      "1/1 [==============================] - 0s 19ms/step\n"
     ]
    }
   ],
   "source": [
    "X_train_forecast = scaler.inverse_transform(model.predict(X_train))\n",
    "y_train = scaler.inverse_transform([y_train.ravel()])\n",
    "X_test_forecast = scaler.inverse_transform(model.predict(X_test))\n",
    "y_test = scaler.inverse_transform([y_test.ravel()])"
   ]
  },
  {
   "cell_type": "code",
   "execution_count": 237,
   "id": "53e7b011",
   "metadata": {},
   "outputs": [
    {
     "data": {
      "text/plain": [
       "array([[222838.6, 220297.4, 216988.1, 215716.9, 214446.7, 211270.1,\n",
       "        208695.4, 202717.8, 206075.8, 204914.5, 202824.7, 200216.9,\n",
       "        195319.2, 192680.2, 190344.8, 189205. , 186696.3, 185435.8,\n",
       "        180701.5, 177700.7, 176654.4]])"
      ]
     },
     "execution_count": 237,
     "metadata": {},
     "output_type": "execute_result"
    }
   ],
   "source": [
    "y_test"
   ]
  },
  {
   "cell_type": "code",
   "execution_count": 241,
   "id": "cb2a4f9b",
   "metadata": {},
   "outputs": [
    {
     "data": {
      "text/plain": [
       "<matplotlib.legend.Legend at 0x1e25295de08>"
      ]
     },
     "execution_count": 241,
     "metadata": {},
     "output_type": "execute_result"
    },
    {
     "data": {
      "image/png": "[encoded data removed]",
      "text/plain": [
       "<Figure size 720x432 with 1 Axes>"
      ]
     },
     "metadata": {
      "needs_background": "light"
     },
     "output_type": "display_data"
    }
   ],
   "source": [
    "plt.figure(figsize=(10,6))\n",
    "\n",
    "# Plot original dataset:\n",
    "plt.plot(list(range(0, len(ds))), scaler.inverse_transform(ds), label=\"Original\", color=\"lightgrey\")\n",
    "\n",
    "# Plot training data:\n",
    "train_y_plot = X_train_forecast\n",
    "train_x_plot = [i+lookback for i in list(range(0, len(X_train_forecast)))]\n",
    "plt.plot(train_x_plot, train_y_plot , label=\"Train\", color=\"blue\")\n",
    "\n",
    "# Plot forecasted data:\n",
    "test_y_plot = X_test_forecast\n",
    "test_x_plot = [i+lookback*2 for i in list(range(len(X_train_forecast), len(X_train_forecast)+len(X_test_forecast)))]\n",
    "plt.plot(test_x_plot, test_y_plot , label=\"Forecast\", color=\"darkorange\", linewidth=2, linestyle=\"--\")\n",
    "\n",
    "plt.legend()"
   ]
  },
  {
   "cell_type": "code",
   "execution_count": null,
   "id": "955e1708",
   "metadata": {},
   "outputs": [],
   "source": []
  }
 ],
 "metadata": {
  "kernelspec": {
   "display_name": "Python 3 (ipykernel)",
   "language": "python",
   "name": "python3"
  },
  "language_info": {
   "codemirror_mode": {
    "name": "ipython",
    "version": 3
   },
   "file_extension": ".py",
   "mimetype": "text/x-python",
   "name": "python",
   "nbconvert_exporter": "python",
   "pygments_lexer": "ipython3",
   "version": "3.7.13"
  }
 },
 "nbformat": 4,
 "nbformat_minor": 5
}
